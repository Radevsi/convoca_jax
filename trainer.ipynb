{
 "cells": [
  {
   "cell_type": "code",
   "execution_count": 3,
   "id": "775d87eb-6012-4467-92b5-042a542b1c42",
   "metadata": {},
   "outputs": [
    {
     "data": {
      "text/plain": [
       "True"
      ]
     },
     "execution_count": 3,
     "metadata": {},
     "output_type": "execute_result"
    }
   ],
   "source": [
    "import os \n",
    "\n",
    "# Limit GPU consumption\n",
    "DEVICE = '2'\n",
    "os.environ[\"CUDA_DEVICE_ORDER\"] = \"PCI_BUS_ID\"  # see issue #152\n",
    "os.environ[\"CUDA_VISIBLE_DEVICES\"] = DEVICE\n",
    "\n",
    "os.environ[\"XLA_PYTHON_CLIENT_PREALLOCATE\"] = \"false\"  # add this\n",
    "os.environ[\"XLA_PYTHON_CLIENT_ALLOCATOR\"] = \"platform\"\n",
    "\n",
    "import jax\n",
    "import jax.numpy as jnp\n",
    "import numpy as np\n",
    "\n",
    "import haiku as hk\n",
    "import optax\n",
    "\n",
    "import matplotlib.pyplot as plt\n",
    "\n",
    "import importlib\n",
    "import sys\n",
    "\n",
    "import wandb\n",
    "import cellpylib as cpl\n",
    "\n",
    "import model\n",
    "import dataloader\n",
    "# from model import network_fn, logit_to_preds\n",
    "# from dataloader import make_game_of_life\n",
    "importlib.reload(sys.modules['model'])\n",
    "importlib.reload(sys.modules['dataloader'])\n",
    "from model import network_fn, logit_to_preds\n",
    "from dataloader import make_game_of_life, dataloader\n",
    "\n",
    "wandb.login()"
   ]
  },
  {
   "cell_type": "code",
   "execution_count": 5,
   "id": "69a663a7-ad64-4a2b-8fdf-ae4f3eed53aa",
   "metadata": {
    "scrolled": true
   },
   "outputs": [
    {
     "ename": "Error",
     "evalue": "You must call wandb.init() before wandb.config['learning_rate']",
     "output_type": "error",
     "traceback": [
      "\u001b[0;31m---------------------------------------------------------------------------\u001b[0m",
      "\u001b[0;31mError\u001b[0m                                     Traceback (most recent call last)",
      "Cell \u001b[0;32mIn[5], line 18\u001b[0m\n\u001b[1;32m     16\u001b[0m \u001b[38;5;66;03m# Create the optimizer\u001b[39;00m\n\u001b[1;32m     17\u001b[0m learning_rate \u001b[38;5;241m=\u001b[39m \u001b[38;5;241m1e-2\u001b[39m\n\u001b[0;32m---> 18\u001b[0m \u001b[43mwandb\u001b[49m\u001b[38;5;241;43m.\u001b[39;49m\u001b[43mconfig\u001b[49m\u001b[43m[\u001b[49m\u001b[38;5;124;43m'\u001b[39;49m\u001b[38;5;124;43mlearning_rate\u001b[39;49m\u001b[38;5;124;43m'\u001b[39;49m\u001b[43m]\u001b[49m \u001b[38;5;241m=\u001b[39m learning_rate\n\u001b[1;32m     19\u001b[0m optimizer \u001b[38;5;241m=\u001b[39m optax\u001b[38;5;241m.\u001b[39madam(learning_rate)\n\u001b[1;32m     21\u001b[0m \u001b[38;5;28;01mclass\u001b[39;00m \u001b[38;5;21;01mTrainState\u001b[39;00m(NamedTuple):\n",
      "File \u001b[0;32m~/.local/lib/python3.10/site-packages/wandb/sdk/lib/preinit.py:17\u001b[0m, in \u001b[0;36mPreInitObject.__setitem__\u001b[0;34m(self, key, value)\u001b[0m\n\u001b[1;32m     16\u001b[0m \u001b[38;5;28;01mdef\u001b[39;00m \u001b[38;5;21m__setitem__\u001b[39m(\u001b[38;5;28mself\u001b[39m, key: \u001b[38;5;28mstr\u001b[39m, value: Any) \u001b[38;5;241m-\u001b[39m\u001b[38;5;241m>\u001b[39m Any:\n\u001b[0;32m---> 17\u001b[0m     \u001b[38;5;28;01mraise\u001b[39;00m wandb\u001b[38;5;241m.\u001b[39mError(\u001b[38;5;124mf\u001b[39m\u001b[38;5;124m\"\u001b[39m\u001b[38;5;124mYou must call wandb.init() before \u001b[39m\u001b[38;5;132;01m{\u001b[39;00m\u001b[38;5;28mself\u001b[39m\u001b[38;5;241m.\u001b[39m_name\u001b[38;5;132;01m}\u001b[39;00m\u001b[38;5;124m[\u001b[39m\u001b[38;5;132;01m{\u001b[39;00mkey\u001b[38;5;132;01m!r}\u001b[39;00m\u001b[38;5;124m]\u001b[39m\u001b[38;5;124m\"\u001b[39m)\n",
      "\u001b[0;31mError\u001b[0m: You must call wandb.init() before wandb.config['learning_rate']"
     ]
    }
   ],
   "source": [
    "## Training cell\n",
    "\n",
    "from typing import NamedTuple\n",
    "from tqdm import tqdm\n",
    "\n",
    "## Create some globals at first\n",
    "\n",
    "try:\n",
    "    del transform\n",
    "except:\n",
    "    ...\n",
    "    \n",
    "# Create the pure network transformation\n",
    "transform = hk.without_apply_rng(hk.transform(network_fn))\n",
    "\n",
    "# Create the optimizer\n",
    "learning_rate = 1e-2\n",
    "wandb.config['learning_rate'] = learning_rate\n",
    "optimizer = optax.adam(learning_rate)\n",
    "\n",
    "class TrainState(NamedTuple):\n",
    "    params: hk.Params\n",
    "    opt_state: optax.OptState\n",
    "\n",
    "class Batch(NamedTuple):\n",
    "    input_states: np.ndarray  # [B, H, W, 1]\n",
    "    output_states: np.ndarray  # [B, H, W, 1]\n",
    "\n",
    "# First make an init function to initialize params and opt state\n",
    "def init() -> TrainState:\n",
    "    \"\"\"Initialize params and optimizer state\n",
    "    \"\"\"\n",
    "    print(\"Initializing model\")\n",
    "\n",
    "    # First make a batch of data using X_train and Y_train globals\n",
    "    # Add a singleton dimension to each dataset\n",
    "    batch = Batch(np.array(X_train[..., np.newaxis]), \n",
    "                  np.array(Y_train[..., np.newaxis]))\n",
    "\n",
    "    # Initialize params and optimizer state\n",
    "    params = transform.init(rng, batch.input_states, layer_dims)\n",
    "    opt_state = optimizer.init(params)\n",
    "\n",
    "    return TrainState(params, opt_state), batch\n",
    "\n",
    "@jax.jit\n",
    "def loss_fn(params: hk.Params, batch: Batch) -> jax.Array:\n",
    "    \"\"\"Loss function\n",
    "    \"\"\"\n",
    "    # Constructs a one-hot encoding of the true output states\n",
    "    true_output_states = jnp.squeeze(jax.nn.one_hot(batch.output_states, \n",
    "                                                    num_classes))\n",
    "    labels = np.reshape(true_output_states, newshape=(-1, num_classes))\n",
    "\n",
    "    # Get the output of the model and convert the shapes\n",
    "    network_output = transform.apply(params, batch.input_states, layer_dims)    \n",
    "    logits = np.reshape(network_output, newshape=(-1, num_classes))\n",
    "    \n",
    "    loss = optax.softmax_cross_entropy(logits=logits, labels=labels)\n",
    "    loss = jnp.mean(loss)\n",
    "\n",
    "    return loss, (loss, network_output)\n",
    "\n",
    "@jax.jit\n",
    "def update(state: TrainState, batch: Batch) -> TrainState:\n",
    "    \"\"\"Implement the learning rule\n",
    "    \"\"\"\n",
    "    # Take gradients first\n",
    "    grads, (loss, network_output) = jax.grad(loss_fn, has_aux=True)(state.params, batch)\n",
    "\n",
    "    # Pass grads through optimizer\n",
    "    updates, opt_state = optimizer.update(grads, state.opt_state)\n",
    "    params = optax.apply_updates(state.params, updates)\n",
    "\n",
    "    return TrainState(params, opt_state), (loss, network_output)\n",
    "    \n",
    "def train(state: TrainState, batch: Batch, epochs,\n",
    "          print_every=50, log_every=50\n",
    "         ):\n",
    "\n",
    "    columns = [\"Input state\", \"Network Prediction\", \"Expected Output\", \"Epoch\"]\n",
    "    # columns = [\"Visualizations\", \"Epoch\"]\n",
    "    table = wandb.Table(columns=columns)\n",
    "             \n",
    "    for epoch in tqdm(range(epochs)):\n",
    "        state, (loss, network_output) = update(state, batch)\n",
    "\n",
    "        run.log({\n",
    "            \"epoch\": epoch,\n",
    "            \"loss\": loss\n",
    "        })\n",
    "\n",
    "        if epoch % print_every == 0:\n",
    "            print(f\"loss at epoch {epoch}: {loss:.8f}\")\n",
    "\n",
    "        if epoch % log_every == 0:\n",
    "            preds = logit_to_preds(network_output, shape=(-1, wspan, hspan)) \n",
    "\n",
    "            # Log images to the table\n",
    "            table.add_data(\n",
    "                wandb.Image(plt.imshow(batch.input_states[0], cmap='gray')),\n",
    "                wandb.Image(plt.imshow(preds[0], cmap='gray')),\n",
    "                wandb.Image(plt.imshow(batch.output_states[0], cmap='gray')),\n",
    "                epoch\n",
    "            )\n",
    "            plt.close()\n",
    "  \n",
    "    run.log({\"network_predictions\": table})\n",
    "\n",
    "    return state, loss\n",
    "\n",
    "# Add number of epochs to the config\n",
    "epochs = 101\n",
    "run.config['epochs'] = epochs\n",
    "\n",
    "state, batch = init()\n",
    "state, final_loss = train(state, batch, epochs=epochs, log_every=5)"
   ]
  },
  {
   "cell_type": "code",
   "execution_count": 7,
   "id": "a6d08083-ee84-4474-8dce-3cd29dba32c8",
   "metadata": {},
   "outputs": [
    {
     "ename": "NameError",
     "evalue": "name 'state' is not defined",
     "output_type": "error",
     "traceback": [
      "\u001b[0;31m---------------------------------------------------------------------------\u001b[0m",
      "\u001b[0;31mNameError\u001b[0m                                 Traceback (most recent call last)",
      "Cell \u001b[0;32mIn[7], line 1\u001b[0m\n\u001b[0;32m----> 1\u001b[0m \u001b[43mstate\u001b[49m\n",
      "\u001b[0;31mNameError\u001b[0m: name 'state' is not defined"
     ]
    }
   ],
   "source": [
    "state"
   ]
  },
  {
   "cell_type": "code",
   "execution_count": 5,
   "id": "352e9666-2c09-4af9-9241-e755607ead61",
   "metadata": {},
   "outputs": [
    {
     "name": "stdout",
     "output_type": "stream",
     "text": [
      "(500, 400, 2)\n"
     ]
    },
    {
     "data": {
      "text/plain": [
       "((500, 20, 20), (500,))"
      ]
     },
     "execution_count": 5,
     "metadata": {},
     "output_type": "execute_result"
    }
   ],
   "source": [
    "def apply_network(state: TrainState, input_states: np.ndarray, \n",
    "                return_logits=False) -> jax.Array:\n",
    "    \"\"\"Use the global `transform` and passed-in state to \n",
    "        get a network output from `input_states`.\n",
    "\n",
    "        :param return_logits: bool, whether the function should just \n",
    "        return the network logits or convert to predictions\n",
    "    \"\"\"\n",
    "    logits = transform.apply(state.params, input_states, layer_dims)\n",
    "    preds = logit_to_preds(logits, shape=(-1, wspan, hspan))   \n",
    "    if return_logits:\n",
    "        return logits, preds\n",
    "    else:\n",
    "        return preds\n",
    "\n",
    "def evaluate(state: TrainState, batch: Batch) -> jax.Array:\n",
    "    \"\"\"Get model outputs and evaluate model performance on a batch\n",
    "        of data\n",
    "\n",
    "        Note: By default, the output of the network has shape\n",
    "        [B, H*W, num_classes], we want to reshape the labels \n",
    "        to have this shape.\n",
    "    \"\"\"\n",
    "    # Get one-hot-encodings of the expected output\n",
    "    # and convert to labels\n",
    "    true_output_states = jnp.squeeze(jax.nn.one_hot(batch.output_states, \n",
    "                                                    num_classes)) \n",
    "    labels = np.reshape(true_output_states, newshape=(-1, \n",
    "                                                      wspan*hspan,\n",
    "                                                      num_classes))\n",
    "    # Get network logits\n",
    "    logits, preds = apply_network(state, batch.input_states, return_logits=True)\n",
    "    print(logits.shape)\n",
    "    \n",
    "    # Compute the loss \n",
    "    loss = optax.softmax_cross_entropy(logits=logits, labels=labels) \n",
    "\n",
    "    return jnp.mean(loss, axis=1), preds\n",
    "\n",
    "losses, preds = evaluate(state, batch)\n",
    "preds.shape, losses.shape"
   ]
  },
  {
   "cell_type": "code",
   "execution_count": 6,
   "id": "74791f42-e4f2-47ae-88fa-950d50aeb0ec",
   "metadata": {},
   "outputs": [
    {
     "data": {
      "text/plain": [
       "numpy.ndarray"
      ]
     },
     "execution_count": 6,
     "metadata": {},
     "output_type": "execute_result"
    }
   ],
   "source": [
    "type(preds[0])\n",
    "type(batch.input_states[0])"
   ]
  },
  {
   "cell_type": "code",
   "execution_count": 7,
   "id": "8c8c6ae6-41c1-447a-906e-30d1c75a71c0",
   "metadata": {
    "scrolled": true
   },
   "outputs": [
    {
     "data": {
      "image/png": "[encoded data removed]",
      "text/plain": [
       "<Figure size 640x480 with 3 Axes>"
      ]
     },
     "metadata": {},
     "output_type": "display_data"
    }
   ],
   "source": [
    "fig, (ax0, ax1, ax2) = plt.subplots(1, 3)\n",
    "ind = 54\n",
    "ax0.imshow(batch.input_states[ind], cmap='gray')\n",
    "ax1.imshow(preds[ind], cmap='gray')\n",
    "ax2.imshow(batch.output_states[ind], cmap='gray')\n",
    "\n",
    "ax0.set_title(\"Input state\")\n",
    "ax1.set_title(f\"Network prediction\\n Loss: {losses[ind]:.3f}\")\n",
    "ax2.set_title(\"Expected output\")\n",
    "\n",
    "fig.show()\n"
   ]
  },
  {
   "cell_type": "code",
   "execution_count": 86,
   "id": "3adef461-6db3-4c35-b1d6-c0099194b995",
   "metadata": {},
   "outputs": [
    {
     "data": {
      "text/plain": [
       "<module 'matplotlib.pyplot' from '/home/sradev/.local/lib/python3.10/site-packages/matplotlib/pyplot.py'>"
      ]
     },
     "execution_count": 86,
     "metadata": {},
     "output_type": "execute_result"
    },
    {
     "data": {
      "image/png": "[encoded data removed]",
      "text/plain": [
       "<Figure size 640x480 with 1 Axes>"
      ]
     },
     "metadata": {},
     "output_type": "display_data"
    }
   ],
   "source": [
    "one = plt.imshow(batch.input_states[ind], cmap='gray')\n",
    "two = plt.imshow(preds[ind], cmap='gray')\n",
    "three = plt.imshow(batch.output_states[ind], cmap='gray')"
   ]
  },
  {
   "cell_type": "code",
   "execution_count": 92,
   "id": "a81b2a08-d759-436c-b8f2-b57e37d2d49f",
   "metadata": {},
   "outputs": [],
   "source": [
    "columns = [\"Input state\", \"Net pred\", \"Exp pred\"]\n",
    "table = wandb.Table(columns=columns)\n",
    "table.add_data(wandb.Image(plt.imshow(batch.input_states[ind], cmap='gray')),\n",
    "               wandb.Image(plt.imshow(preds[ind], cmap='gray')),\n",
    "               wandb.Image(plt.imshow(batch.output_states[ind], cmap='gray'))\n",
    "              )\n",
    "plt.close()\n",
    "run.log({\"test_table1\": table})\n",
    "\n",
    "# table.add_data(wandb.Image(input_state),\n",
    "#                wandb.Image(np.array(preds[0])),\n",
    "#                wandb.Image(batch.output_states[0]),\n",
    "#                # plt,\n",
    "#                epoch\n",
    "#               )    \n"
   ]
  },
  {
   "cell_type": "code",
   "execution_count": 93,
   "id": "584ca7f2-f0e4-4047-ab43-764bef1c7043",
   "metadata": {},
   "outputs": [
    {
     "data": {
      "text/html": [
       "<button onClick=\"this.nextSibling.style.display='block';this.style.display='none';\">Display W&B run</button><iframe src='https://wandb.ai/bulgari-yunazi/convoca_jax/runs/798rg5y1?jupyter=true' style='border:none;width:100%;height:420px;display:none;'></iframe>"
      ],
      "text/plain": [
       "<wandb.sdk.wandb_run.Run at 0x7fdf061affa0>"
      ]
     },
     "execution_count": 93,
     "metadata": {},
     "output_type": "execute_result"
    }
   ],
   "source": [
    "run"
   ]
  },
  {
   "cell_type": "code",
   "execution_count": 94,
   "id": "6080a7b4-db28-4b70-b346-3cd203e51b94",
   "metadata": {},
   "outputs": [],
   "source": [
    "logits, _ = apply_network(state, batch.input_states, return_logits=True)"
   ]
  },
  {
   "cell_type": "code",
   "execution_count": 9,
   "id": "3cf7fd31-b2f2-4217-b911-863f12061539",
   "metadata": {},
   "outputs": [
    {
     "data": {
      "text/html": [
       "Waiting for W&B process to finish... <strong style=\"color:green\">(success).</strong>"
      ],
      "text/plain": [
       "<IPython.core.display.HTML object>"
      ]
     },
     "metadata": {},
     "output_type": "display_data"
    },
    {
     "data": {
      "text/html": [
       "<style>\n",
       "    table.wandb td:nth-child(1) { padding: 0 10px; text-align: left ; width: auto;} td:nth-child(2) {text-align: left ; width: 100%}\n",
       "    .wandb-row { display: flex; flex-direction: row; flex-wrap: wrap; justify-content: flex-start; width: 100% }\n",
       "    .wandb-col { display: flex; flex-direction: column; flex-basis: 100%; flex: 1; padding: 10px; }\n",
       "    </style>\n",
       "<div class=\"wandb-row\"><div class=\"wandb-col\"><h3>Run history:</h3><br/><table class=\"wandb\"><tr><td>epoch</td><td>▁▁▁▁▂▂▂▂▂▃▃▃▃▃▃▄▄▄▄▄▅▅▅▅▅▅▆▆▆▆▆▇▇▇▇▇▇███</td></tr><tr><td>loss</td><td>███▇▇▇▇▇▆▆▆▆▅▅▅▅▄▄▄▄▄▃▃▃▂▂▂▂▂▁▁▁▁▁▁▁▁▁▁▁</td></tr></table><br/></div><div class=\"wandb-col\"><h3>Run summary:</h3><br/><table class=\"wandb\"><tr><td>epoch</td><td>100</td></tr><tr><td>loss</td><td>0.06449</td></tr></table><br/></div></div>"
      ],
      "text/plain": [
       "<IPython.core.display.HTML object>"
      ]
     },
     "metadata": {},
     "output_type": "display_data"
    },
    {
     "data": {
      "text/html": [
       " View run <strong style=\"color:#cdcd00\">fragrant-flower-23</strong> at: <a href='https://wandb.ai/bulgari-yunazi/convoca_jax/runs/5ge3trme' target=\"_blank\">https://wandb.ai/bulgari-yunazi/convoca_jax/runs/5ge3trme</a><br/>Synced 5 W&B file(s), 1 media file(s), 19 artifact file(s) and 0 other file(s)"
      ],
      "text/plain": [
       "<IPython.core.display.HTML object>"
      ]
     },
     "metadata": {},
     "output_type": "display_data"
    },
    {
     "data": {
      "text/html": [
       "Find logs at: <code>./wandb/run-20230702_193400-5ge3trme/logs</code>"
      ],
      "text/plain": [
       "<IPython.core.display.HTML object>"
      ]
     },
     "metadata": {},
     "output_type": "display_data"
    }
   ],
   "source": [
    "run.finish()"
   ]
  },
  {
   "cell_type": "code",
   "execution_count": 111,
   "id": "b740f88e-92a2-43c9-98a2-1747488fb970",
   "metadata": {},
   "outputs": [
    {
     "data": {
      "image/png": "[encoded data removed]",
      "text/plain": [
       "<Figure size 640x480 with 1 Axes>"
      ]
     },
     "metadata": {},
     "output_type": "display_data"
    }
   ],
   "source": [
    "import cellpylib as cpl\n",
    "\n",
    "# initialize a 60x60 2D cellular automaton\n",
    "cellular_automaton = cpl.init_simple2d(60, 60)\n",
    "\n",
    "# evolve the cellular automaton for 30 time steps,\n",
    "#  applying totalistic rule 126 to each cell with a Moore neighbourhood\n",
    "cellular_automaton = cpl.evolve2d(cellular_automaton, timesteps=30, neighbourhood='Moore',\n",
    "                                  apply_rule=lambda n, c, t: cpl.totalistic_rule(n, k=2, rule=126))\n",
    "\n",
    "cpl.plot2d(cellular_automaton)"
   ]
  },
  {
   "cell_type": "code",
   "execution_count": 8,
   "id": "e864ec11-8c40-4370-b2a5-684e0cf8243a",
   "metadata": {},
   "outputs": [],
   "source": [
    "cellular_automaton = cpl.init_random(200)\n",
    "\n",
    "cellular_automaton = cpl.evolve(cellular_automaton, timesteps=1000,\n",
    "                                apply_rule=lambda n, c, t: cpl.nks_rule(n, 30))\n",
    "\n",
    "# calculate the average cell entropy; the value will be ~0.999 in this case\n",
    "avg_cell_entropy = cpl.average_cell_entropy(cellular_automaton)\n"
   ]
  },
  {
   "cell_type": "code",
   "execution_count": null,
   "id": "0771a633-23ff-4640-acb2-11fc37417f0f",
   "metadata": {},
   "outputs": [],
   "source": []
  }
 ],
 "metadata": {
  "kernelspec": {
   "display_name": "Python 3 (ipykernel)",
   "language": "python",
   "name": "python3"
  },
  "language_info": {
   "codemirror_mode": {
    "name": "ipython",
    "version": 3
   },
   "file_extension": ".py",
   "mimetype": "text/x-python",
   "name": "python",
   "nbconvert_exporter": "python",
   "pygments_lexer": "ipython3",
   "version": "3.10.6"
  }
 },
 "nbformat": 4,
 "nbformat_minor": 5
}
