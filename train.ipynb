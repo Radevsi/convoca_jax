{
 "cells": [
  {
   "cell_type": "code",
   "execution_count": 3,
   "metadata": {},
   "outputs": [],
   "source": [
    "import os \n",
    "\n",
    "# Limit GPU consumption\n",
    "DEVICE = '2'\n",
    "os.environ[\"CUDA_DEVICE_ORDER\"] = \"PCI_BUS_ID\"  # see issue #152\n",
    "os.environ[\"CUDA_VISIBLE_DEVICES\"] = DEVICE\n",
    "\n",
    "os.environ[\"XLA_PYTHON_CLIENT_PREALLOCATE\"] = \"false\"  # add this\n",
    "os.environ[\"XLA_PYTHON_CLIENT_ALLOCATOR\"] = \"platform\"\n",
    "\n",
    "import jax\n",
    "import jax.numpy as jnp\n",
    "import numpy as np\n",
    "\n",
    "# import haiku as hk\n",
    "# import optax\n",
    "\n",
    "import matplotlib.pyplot as plt\n",
    "\n",
    "import importlib\n",
    "import sys\n",
    "\n",
    "import wandb\n",
    "import cellpylib as cpl\n",
    "\n",
    "import model\n",
    "import dataloader\n",
    "import trainer\n",
    "# from model import network_fn, logit_to_preds\n",
    "# from dataloader import make_game_of_life\n",
    "importlib.reload(sys.modules['model'])\n",
    "importlib.reload(sys.modules['dataloader'])\n",
    "importlib.reload(sys.modules['trainer'])\n",
    "from model import network_fn, logit_to_preds\n",
    "from dataloader import make_game_of_life, dataloader\n",
    "from trainer import Trainer, Batch, TrainState\n",
    "\n",
    "# wandb.login()"
   ]
  },
  {
   "cell_type": "code",
   "execution_count": 4,
   "metadata": {},
   "outputs": [
    {
     "name": "stdout",
     "output_type": "stream",
     "text": [
      "(500, 10, 10) (500, 10, 10) float32\n"
     ]
    }
   ],
   "source": [
    "## First we create a config file\n",
    "\n",
    "# Some hyperparameters\n",
    "num_classes = 2  # number of classes per cell (i.e. bits)\n",
    "wspan, hspan = 10, 10  # height and width of grid\n",
    "layer_dims = [10, 10, 10]\n",
    "\n",
    "# Create a dictionary of hyperparameters\n",
    "config = {\n",
    "    \"train_size\": 500,          # number of samples \n",
    "    \"wspan\": wspan,             # width of grid \n",
    "    \"hspan\": hspan,             # height of grid\n",
    "    \"num_classes\": num_classes, # number of states for each cell\n",
    "    \"layer_dims\": layer_dims,\n",
    "    \"learning_rate\": 1e-2\n",
    "}\n",
    "\n",
    "generate_gol_data = dataloader(config['num_classes'],\n",
    "    config['wspan'],\n",
    "    config['hspan']\n",
    ")\n",
    "\n",
    "X_train, Y_train = generate_gol_data(\n",
    "    config['train_size']\n",
    ")\n",
    "\n",
    "print(X_train.shape, Y_train.shape, X_train.dtype)"
   ]
  },
  {
   "cell_type": "code",
   "execution_count": 62,
   "metadata": {},
   "outputs": [],
   "source": [
    "## Now we start playing with getting different datasets (besides just the game of life)\n",
    "\n",
    "def generate_totalistic_data(config, random_rule=None):\n",
    "\n",
    "    hspan, wspan = config['hspan'], config['wspan']\n",
    "    k = config['num_classes']\n",
    "    train_size = config['train_size']\n",
    "\n",
    "    if random_rule is None:\n",
    "        random_rule = np.random.randint(1000) # get some random number\n",
    "    \n",
    "    # Firstly we want to create some random CA grid\n",
    "    random_ca_state = cpl.init_random2d(rows=hspan, cols=wspan, k=k)\n",
    "\n",
    "    # If random rule is the Game of Life\n",
    "    if random_rule == 'gol':\n",
    "        cellular_automaton = cpl.evolve2d(random_ca_state, timesteps=train_size, \n",
    "                     apply_rule=cpl.game_of_life_rule, memoize='recursive')\n",
    "    else:    \n",
    "        cellular_automaton = cpl.evolve2d(random_ca_state, timesteps=train_size, memoize=True,\n",
    "                                          apply_rule=lambda n,c,t: cpl.totalistic_rule(n, k=k, rule=random_rule))\n",
    "    \n",
    "    # Calculate some statistics about this cellular automaton\n",
    "    entropy = cpl.average_cell_entropy(cellular_automaton)\n",
    "    avg_mutual_information = cpl.average_mutual_information(cellular_automaton)\n",
    "\n",
    "    # Generate the X and Y training sets\n",
    "    X_train = cellular_automaton[:-1]\n",
    "    Y_train = cellular_automaton[1:]\n",
    "\n",
    "    # cpl.plot2d(random_ca_state)\n",
    "    # cpl.plot2d(cellular_automaton)\n",
    "    print(f\"Shannon entropy: {entropy}\")\n",
    "    print(f\"The average mutual information is: {avg_mutual_information}\")\n",
    "    print(f\"Random totalistic rule: {random_rule}\")\n",
    "\n",
    "    # Add information to config dictionary\n",
    "    config['entropy'] = entropy\n",
    "    config['avg_mutual_information'] = avg_mutual_information\n",
    "    \n",
    "    return X_train.astype(np.float32), Y_train.astype(np.float32), config\n"
   ]
  },
  {
   "cell_type": "code",
   "execution_count": 88,
   "metadata": {},
   "outputs": [
    {
     "name": "stdout",
     "output_type": "stream",
     "text": [
      "Shannon entropy: 1.9167087722617129\n",
      "The average mutual information is: 1.2284599858587664\n",
      "Random totalistic rule: 622\n"
     ]
    }
   ],
   "source": [
    "X_train, Y_train, config = generate_totalistic_data(config)"
   ]
  },
  {
   "cell_type": "code",
   "execution_count": 89,
   "metadata": {},
   "outputs": [
    {
     "data": {
      "text/plain": [
       "(dtype('float32'),\n",
       " dtype('float32'),\n",
       " {'train_size': 500,\n",
       "  'wspan': 10,\n",
       "  'hspan': 10,\n",
       "  'num_classes': 2,\n",
       "  'layer_dims': [10, 10, 10],\n",
       "  'learning_rate': 0.01,\n",
       "  'entropy': 1.9167087722617129,\n",
       "  'avg_mutual_information': 1.2284599858587664})"
      ]
     },
     "execution_count": 89,
     "metadata": {},
     "output_type": "execute_result"
    }
   ],
   "source": [
    "X_train.dtype, Y_train.dtype, config"
   ]
  },
  {
   "cell_type": "code",
   "execution_count": 90,
   "metadata": {},
   "outputs": [
    {
     "name": "stderr",
     "output_type": "stream",
     "text": [
      "\u001b[34m\u001b[1mwandb\u001b[0m: \u001b[33mWARNING\u001b[0m Calling wandb.login() after wandb.init() has no effect.\n"
     ]
    },
    {
     "data": {
      "text/html": [
       "Finishing last run (ID:thzl60xw) before initializing another..."
      ],
      "text/plain": [
       "<IPython.core.display.HTML object>"
      ]
     },
     "metadata": {},
     "output_type": "display_data"
    },
    {
     "data": {
      "text/html": [
       "Waiting for W&B process to finish... <strong style=\"color:green\">(success).</strong>"
      ],
      "text/plain": [
       "<IPython.core.display.HTML object>"
      ]
     },
     "metadata": {},
     "output_type": "display_data"
    },
    {
     "data": {
      "text/html": [
       "<style>\n",
       "    table.wandb td:nth-child(1) { padding: 0 10px; text-align: left ; width: auto;} td:nth-child(2) {text-align: left ; width: 100%}\n",
       "    .wandb-row { display: flex; flex-direction: row; flex-wrap: wrap; justify-content: flex-start; width: 100% }\n",
       "    .wandb-col { display: flex; flex-direction: column; flex-basis: 100%; flex: 1; padding: 10px; }\n",
       "    </style>\n",
       "<div class=\"wandb-row\"><div class=\"wandb-col\"><h3>Run history:</h3><br/><table class=\"wandb\"><tr><td>epoch</td><td>▁▁▁▁▂▂▂▂▂▃▃▃▃▃▃▄▄▄▄▄▅▅▅▅▅▅▆▆▆▆▆▇▇▇▇▇▇███</td></tr><tr><td>loss</td><td>█▆▄▃▂▂▂▂▁▁▁▁▁▁▁▁▁▁▁▁▁▁▁▁▁▁▁▁▁▁▁▁▁▁▁▁▁▁▁▁</td></tr></table><br/></div><div class=\"wandb-col\"><h3>Run summary:</h3><br/><table class=\"wandb\"><tr><td>epoch</td><td>700</td></tr><tr><td>loss</td><td>0.0132</td></tr></table><br/></div></div>"
      ],
      "text/plain": [
       "<IPython.core.display.HTML object>"
      ]
     },
     "metadata": {},
     "output_type": "display_data"
    },
    {
     "data": {
      "text/html": [
       " View run <strong style=\"color:#cdcd00\">scarlet-night-54</strong> at: <a href='https://wandb.ai/bulgari-yunazi/convoca_jax/runs/thzl60xw' target=\"_blank\">https://wandb.ai/bulgari-yunazi/convoca_jax/runs/thzl60xw</a><br/>Synced 5 W&B file(s), 1 media file(s), 10 artifact file(s) and 0 other file(s)"
      ],
      "text/plain": [
       "<IPython.core.display.HTML object>"
      ]
     },
     "metadata": {},
     "output_type": "display_data"
    },
    {
     "data": {
      "text/html": [
       "Find logs at: <code>./wandb/run-20230703_140829-thzl60xw/logs</code>"
      ],
      "text/plain": [
       "<IPython.core.display.HTML object>"
      ]
     },
     "metadata": {},
     "output_type": "display_data"
    },
    {
     "data": {
      "text/html": [
       "Successfully finished last run (ID:thzl60xw). Initializing new run:<br/>"
      ],
      "text/plain": [
       "<IPython.core.display.HTML object>"
      ]
     },
     "metadata": {},
     "output_type": "display_data"
    },
    {
     "data": {
      "text/html": [
       "Tracking run with wandb version 0.15.4"
      ],
      "text/plain": [
       "<IPython.core.display.HTML object>"
      ]
     },
     "metadata": {},
     "output_type": "display_data"
    },
    {
     "data": {
      "text/html": [
       "Run data is saved locally in <code>/u/sradev/projects/caproject/convoca_jax/wandb/run-20230703_141711-ve8j525k</code>"
      ],
      "text/plain": [
       "<IPython.core.display.HTML object>"
      ]
     },
     "metadata": {},
     "output_type": "display_data"
    },
    {
     "data": {
      "text/html": [
       "Syncing run <strong><a href='https://wandb.ai/bulgari-yunazi/convoca_jax/runs/ve8j525k' target=\"_blank\">eternal-donkey-55</a></strong> to <a href='https://wandb.ai/bulgari-yunazi/convoca_jax' target=\"_blank\">Weights & Biases</a> (<a href='https://wandb.me/run' target=\"_blank\">docs</a>)<br/>"
      ],
      "text/plain": [
       "<IPython.core.display.HTML object>"
      ]
     },
     "metadata": {},
     "output_type": "display_data"
    },
    {
     "data": {
      "text/html": [
       " View project at <a href='https://wandb.ai/bulgari-yunazi/convoca_jax' target=\"_blank\">https://wandb.ai/bulgari-yunazi/convoca_jax</a>"
      ],
      "text/plain": [
       "<IPython.core.display.HTML object>"
      ]
     },
     "metadata": {},
     "output_type": "display_data"
    },
    {
     "data": {
      "text/html": [
       " View run at <a href='https://wandb.ai/bulgari-yunazi/convoca_jax/runs/ve8j525k' target=\"_blank\">https://wandb.ai/bulgari-yunazi/convoca_jax/runs/ve8j525k</a>"
      ],
      "text/plain": [
       "<IPython.core.display.HTML object>"
      ]
     },
     "metadata": {},
     "output_type": "display_data"
    }
   ],
   "source": [
    "trainer = Trainer(network_fn, config, X_train, Y_train)"
   ]
  },
  {
   "cell_type": "code",
   "execution_count": 82,
   "metadata": {},
   "outputs": [
    {
     "name": "stdout",
     "output_type": "stream",
     "text": [
      "Initializing model\n"
     ]
    },
    {
     "name": "stderr",
     "output_type": "stream",
     "text": [
      "  0%|                                                             | 0/701 [00:00<?, ?it/s]"
     ]
    },
    {
     "name": "stdout",
     "output_type": "stream",
     "text": [
      "loss at epoch 0: 1.09406805\n"
     ]
    },
    {
     "name": "stderr",
     "output_type": "stream",
     "text": [
      "  7%|███▍                                                | 47/701 [00:01<00:11, 54.52it/s]"
     ]
    },
    {
     "name": "stdout",
     "output_type": "stream",
     "text": [
      "loss at epoch 50: 0.19291647\n"
     ]
    },
    {
     "name": "stderr",
     "output_type": "stream",
     "text": [
      " 11%|█████▍                                              | 74/701 [00:01<00:09, 63.82it/s]"
     ]
    },
    {
     "name": "stdout",
     "output_type": "stream",
     "text": [
      "loss at epoch 100: 0.10231356\n"
     ]
    },
    {
     "name": "stderr",
     "output_type": "stream",
     "text": [
      " 21%|██████████▎                                       | 145/701 [00:01<00:04, 115.18it/s]"
     ]
    },
    {
     "name": "stdout",
     "output_type": "stream",
     "text": [
      "loss at epoch 150: 0.05109394\n"
     ]
    },
    {
     "name": "stderr",
     "output_type": "stream",
     "text": [
      " 24%|████████████▎                                      | 170/701 [00:02<00:05, 99.91it/s]"
     ]
    },
    {
     "name": "stdout",
     "output_type": "stream",
     "text": [
      "loss at epoch 200: 0.03736166\n"
     ]
    },
    {
     "name": "stderr",
     "output_type": "stream",
     "text": [
      " 35%|█████████████████▍                                | 245/701 [00:02<00:03, 139.31it/s]"
     ]
    },
    {
     "name": "stdout",
     "output_type": "stream",
     "text": [
      "loss at epoch 250: 0.03093091\n"
     ]
    },
    {
     "name": "stderr",
     "output_type": "stream",
     "text": [
      " 39%|███████████████████▎                              | 270/701 [00:03<00:03, 114.76it/s]"
     ]
    },
    {
     "name": "stdout",
     "output_type": "stream",
     "text": [
      "loss at epoch 300: 0.02576812\n"
     ]
    },
    {
     "name": "stderr",
     "output_type": "stream",
     "text": [
      " 49%|████████████████████████▌                         | 345/701 [00:03<00:02, 147.83it/s]"
     ]
    },
    {
     "name": "stdout",
     "output_type": "stream",
     "text": [
      "loss at epoch 350: 0.02286123\n"
     ]
    },
    {
     "name": "stderr",
     "output_type": "stream",
     "text": [
      " 53%|██████████████████████████▍                       | 370/701 [00:03<00:02, 118.75it/s]"
     ]
    },
    {
     "name": "stdout",
     "output_type": "stream",
     "text": [
      "loss at epoch 400: 0.02002322\n"
     ]
    },
    {
     "name": "stderr",
     "output_type": "stream",
     "text": [
      " 64%|███████████████████████████████▊                  | 446/701 [00:04<00:01, 150.74it/s]"
     ]
    },
    {
     "name": "stdout",
     "output_type": "stream",
     "text": [
      "loss at epoch 450: 0.01691435\n"
     ]
    },
    {
     "name": "stderr",
     "output_type": "stream",
     "text": [
      " 67%|█████████████████████████████████▌                | 471/701 [00:04<00:01, 121.39it/s]"
     ]
    },
    {
     "name": "stdout",
     "output_type": "stream",
     "text": [
      "loss at epoch 500: 0.01538286\n"
     ]
    },
    {
     "name": "stderr",
     "output_type": "stream",
     "text": [
      " 78%|███████████████████████████████████████           | 548/701 [00:05<00:00, 154.46it/s]"
     ]
    },
    {
     "name": "stdout",
     "output_type": "stream",
     "text": [
      "loss at epoch 550: 0.01454771\n"
     ]
    },
    {
     "name": "stderr",
     "output_type": "stream",
     "text": [
      " 82%|████████████████████████████████████████▉         | 574/701 [00:05<00:01, 124.31it/s]"
     ]
    },
    {
     "name": "stdout",
     "output_type": "stream",
     "text": [
      "loss at epoch 600: 0.01345436\n"
     ]
    },
    {
     "name": "stderr",
     "output_type": "stream",
     "text": [
      " 92%|██████████████████████████████████████████████    | 645/701 [00:05<00:00, 150.84it/s]"
     ]
    },
    {
     "name": "stdout",
     "output_type": "stream",
     "text": [
      "loss at epoch 650: 0.01288730\n"
     ]
    },
    {
     "name": "stderr",
     "output_type": "stream",
     "text": [
      " 96%|███████████████████████████████████████████████▊  | 670/701 [00:06<00:00, 120.90it/s]"
     ]
    },
    {
     "name": "stdout",
     "output_type": "stream",
     "text": [
      "loss at epoch 700: 0.01319845\n"
     ]
    },
    {
     "name": "stderr",
     "output_type": "stream",
     "text": [
      "100%|██████████████████████████████████████████████████| 701/701 [00:06<00:00, 105.98it/s]\n"
     ]
    }
   ],
   "source": [
    "state, loss, batch = trainer.train(epochs=701)"
   ]
  },
  {
   "cell_type": "code",
   "execution_count": 83,
   "metadata": {},
   "outputs": [
    {
     "name": "stdout",
     "output_type": "stream",
     "text": [
      "(499, 100, 2)\n"
     ]
    },
    {
     "data": {
      "text/plain": [
       "((499, 10, 10), (499,))"
      ]
     },
     "execution_count": 83,
     "metadata": {},
     "output_type": "execute_result"
    }
   ],
   "source": [
    "losses, preds = trainer.evaluate(state, batch)\n",
    "preds.shape, losses.shape"
   ]
  },
  {
   "cell_type": "code",
   "execution_count": 87,
   "metadata": {},
   "outputs": [
    {
     "name": "stdout",
     "output_type": "stream",
     "text": [
      "Showing output for sample index 251\n"
     ]
    },
    {
     "data": {
      "image/png": "[encoded data removed]",
      "text/plain": [
       "<Figure size 640x480 with 3 Axes>"
      ]
     },
     "metadata": {},
     "output_type": "display_data"
    }
   ],
   "source": [
    "def sample_output(i=None):\n",
    "    if i is None:\n",
    "        i = np.random.randint(config['train_size'])\n",
    "    \n",
    "    fig, (ax0, ax1, ax2) = plt.subplots(1, 3)\n",
    "    ax0.imshow(batch.input_states[i], cmap='gray')\n",
    "    ax1.imshow(preds[i], cmap='gray')\n",
    "    ax2.imshow(batch.output_states[i], cmap='gray')\n",
    "\n",
    "    print(f\"Showing output for sample index {i}\")\n",
    "    ax0.set_title(\"Input state\")\n",
    "    ax1.set_title(f\"Network prediction\\n Loss: {losses[i]:.3f}\")\n",
    "    ax2.set_title(\"Expected output\")\n",
    "    \n",
    "    fig.show()\n",
    "\n",
    "sample_output()"
   ]
  },
  {
   "cell_type": "code",
   "execution_count": 53,
   "metadata": {},
   "outputs": [
    {
     "data": {
      "text/plain": [
       "dict_keys(['conv2_d', 'linear', 'linear_1', 'linear_2'])"
      ]
     },
     "execution_count": 53,
     "metadata": {},
     "output_type": "execute_result"
    }
   ],
   "source": [
    "state.params.keys()"
   ]
  },
  {
   "cell_type": "code",
   "execution_count": 101,
   "metadata": {
    "collapsed": true,
    "jupyter": {
     "outputs_hidden": true
    }
   },
   "outputs": [
    {
     "data": {
      "text/plain": [
       "{'b': Array([ 0.8592717 ,  0.6382573 , -0.13122565,  0.17485434, -0.9509522 ,\n",
       "         0.21001194, -0.61899704, -0.18549381,  0.6602366 , -0.41422307],      dtype=float32),\n",
       " 'w': Array([[ 1.588022  , -0.99783015, -0.9424473 , -0.87889904,  0.9701816 ,\n",
       "          0.521644  ,  0.6596344 , -0.14601475, -1.0883386 , -0.24025197],\n",
       "        [ 0.5977404 ,  0.30187994,  0.7747946 , -1.2254877 , -0.1662703 ,\n",
       "          0.6547842 , -0.5956883 ,  0.01980493,  0.5308538 , -1.3611084 ],\n",
       "        [ 1.5526215 ,  0.07584317, -0.24706799, -0.6626715 ,  1.4958545 ,\n",
       "         -0.72013307,  1.120972  , -0.5954493 ,  0.04138995, -0.4736578 ],\n",
       "        [ 1.4602559 , -0.860617  , -0.957707  , -1.2094061 ,  1.3887771 ,\n",
       "          1.0615445 ,  1.1235297 , -0.08197156, -0.7650332 , -1.0844675 ],\n",
       "        [ 1.5115712 , -0.87748253, -0.36987558, -1.4840214 , -0.17466727,\n",
       "          0.7140048 , -0.12885873,  0.16476874, -0.01122659, -1.0194228 ],\n",
       "        [ 1.2555254 , -1.0970948 , -0.6394633 , -0.01263659, -0.1532264 ,\n",
       "          0.39483944,  1.4487827 ,  0.32301956, -0.21561965, -0.51628083],\n",
       "        [ 0.9148588 ,  0.54305995,  0.63470584,  0.7471782 , -1.002665  ,\n",
       "         -1.1552062 , -0.63794   , -0.41294816,  0.6406516 ,  0.58241296],\n",
       "        [-0.9103682 ,  0.22540717,  0.22613473,  0.2946253 ,  0.6932664 ,\n",
       "          0.38481683,  0.9688184 , -1.0403346 ,  0.3448286 ,  0.54143447],\n",
       "        [ 0.45374292,  0.7050502 , -0.46866482,  0.11123708,  0.37032068,\n",
       "         -0.29987928,  0.25779578, -0.09814684,  0.29997128,  0.03780883],\n",
       "        [ 1.3321745 , -1.0863323 , -1.1869413 , -0.46930867,  1.4952427 ,\n",
       "          0.8170243 ,  1.5675085 , -0.74554646, -1.4993542 , -1.044053  ]],      dtype=float32)}"
      ]
     },
     "execution_count": 101,
     "metadata": {},
     "output_type": "execute_result"
    }
   ],
   "source": [
    "state.params['linear']"
   ]
  },
  {
   "cell_type": "code",
   "execution_count": 100,
   "metadata": {
    "collapsed": true,
    "jupyter": {
     "outputs_hidden": true
    }
   },
   "outputs": [
    {
     "name": "stdout",
     "output_type": "stream",
     "text": [
      "{'b': Array([ 0.69263196,  0.6346218 ,  0.03469291,  0.1834173 , -0.318854  ,\n",
      "       -0.25989184, -0.02503752, -1.033849  ,  0.5168198 ,  0.74983156],      dtype=float32), 'w': Array([[[[-0.71454304,  0.53485596, -0.5316769 , -0.34163642,\n",
      "          -0.2956887 , -0.36212316, -0.91466784, -0.39700082,\n",
      "          -0.21131143, -0.39190906]],\n",
      "\n",
      "        [[-0.53842896,  0.46261877, -0.28206652, -0.5648309 ,\n",
      "           0.10924945,  0.08504424,  0.14062199,  0.1807003 ,\n",
      "          -0.537885  , -0.34444347]],\n",
      "\n",
      "        [[-0.5496939 , -0.6978107 , -0.48181102, -0.5702212 ,\n",
      "           0.08617242, -0.34800434, -0.5085652 ,  0.47759596,\n",
      "          -0.15162039,  1.4330441 ]]],\n",
      "\n",
      "\n",
      "       [[[-0.5282686 ,  0.11953981,  0.73692244,  0.40565094,\n",
      "          -0.18004337,  1.014837  , -0.17754923,  0.68211824,\n",
      "          -0.8754142 , -0.37368834]],\n",
      "\n",
      "        [[-0.5030161 , -0.4778917 , -0.3372099 ,  0.35878325,\n",
      "          -0.1522907 , -0.517628  ,  0.38084644,  0.61873716,\n",
      "          -0.4002397 , -0.35065976]],\n",
      "\n",
      "        [[-0.53819704,  0.24951933,  0.14465159, -0.5703997 ,\n",
      "           0.48592228,  0.84298867, -0.2994578 ,  0.34606355,\n",
      "          -0.34329492, -0.37479472]]],\n",
      "\n",
      "\n",
      "       [[[ 0.77258193, -0.5268102 ,  0.68521994, -0.5698283 ,\n",
      "           0.21780749, -0.5717931 ,  0.5535231 ,  0.6560038 ,\n",
      "          -0.41603628, -0.34782967]],\n",
      "\n",
      "        [[ 1.3286275 , -0.05854478, -0.6851693 , -0.5704637 ,\n",
      "          -0.29126838, -0.45543918,  0.16267556,  0.7907925 ,\n",
      "          -0.08828534, -0.3618642 ]],\n",
      "\n",
      "        [[-0.5098023 ,  0.5888167 , -0.45057833,  1.0983515 ,\n",
      "          -0.13236257, -0.52164555,  0.6854969 ,  0.52645034,\n",
      "          -0.1067637 , -0.36991557]]]], dtype=float32)}\n",
      "{'b': Array([ 0.8592717 ,  0.6382573 , -0.13122565,  0.17485434, -0.9509522 ,\n",
      "        0.21001194, -0.61899704, -0.18549381,  0.6602366 , -0.41422307],      dtype=float32), 'w': Array([[ 1.588022  , -0.99783015, -0.9424473 , -0.87889904,  0.9701816 ,\n",
      "         0.521644  ,  0.6596344 , -0.14601475, -1.0883386 , -0.24025197],\n",
      "       [ 0.5977404 ,  0.30187994,  0.7747946 , -1.2254877 , -0.1662703 ,\n",
      "         0.6547842 , -0.5956883 ,  0.01980493,  0.5308538 , -1.3611084 ],\n",
      "       [ 1.5526215 ,  0.07584317, -0.24706799, -0.6626715 ,  1.4958545 ,\n",
      "        -0.72013307,  1.120972  , -0.5954493 ,  0.04138995, -0.4736578 ],\n",
      "       [ 1.4602559 , -0.860617  , -0.957707  , -1.2094061 ,  1.3887771 ,\n",
      "         1.0615445 ,  1.1235297 , -0.08197156, -0.7650332 , -1.0844675 ],\n",
      "       [ 1.5115712 , -0.87748253, -0.36987558, -1.4840214 , -0.17466727,\n",
      "         0.7140048 , -0.12885873,  0.16476874, -0.01122659, -1.0194228 ],\n",
      "       [ 1.2555254 , -1.0970948 , -0.6394633 , -0.01263659, -0.1532264 ,\n",
      "         0.39483944,  1.4487827 ,  0.32301956, -0.21561965, -0.51628083],\n",
      "       [ 0.9148588 ,  0.54305995,  0.63470584,  0.7471782 , -1.002665  ,\n",
      "        -1.1552062 , -0.63794   , -0.41294816,  0.6406516 ,  0.58241296],\n",
      "       [-0.9103682 ,  0.22540717,  0.22613473,  0.2946253 ,  0.6932664 ,\n",
      "         0.38481683,  0.9688184 , -1.0403346 ,  0.3448286 ,  0.54143447],\n",
      "       [ 0.45374292,  0.7050502 , -0.46866482,  0.11123708,  0.37032068,\n",
      "        -0.29987928,  0.25779578, -0.09814684,  0.29997128,  0.03780883],\n",
      "       [ 1.3321745 , -1.0863323 , -1.1869413 , -0.46930867,  1.4952427 ,\n",
      "         0.8170243 ,  1.5675085 , -0.74554646, -1.4993542 , -1.044053  ]],      dtype=float32)}\n",
      "{'b': Array([ 0.19770956,  0.38918158, -0.23970346,  0.65154934,  0.5170914 ,\n",
      "        0.56937414,  0.5375925 , -0.17706607, -0.21363498, -1.3576219 ],      dtype=float32), 'w': Array([[-2.0858293 , -2.2114434 , -0.7632313 , -1.4107413 , -0.7989839 ,\n",
      "        -0.98497236,  1.8671775 , -0.04237992, -0.437451  ,  0.4297379 ],\n",
      "       [ 0.66637236,  0.42308262,  0.34422788,  0.01585602,  0.10683511,\n",
      "        -0.682445  , -0.49911982, -0.48170164,  0.06904249, -0.2689871 ],\n",
      "       [ 0.25333238,  0.0952194 , -0.21092212,  0.16068201,  0.3962732 ,\n",
      "         0.1379342 , -0.14078528,  0.3600547 , -0.49893185, -0.14117108],\n",
      "       [ 1.8978702 ,  0.21795735,  1.5259672 ,  1.8044755 ,  1.0512468 ,\n",
      "         0.7622574 , -0.7256013 ,  1.1011256 , -0.12461024,  0.6435167 ],\n",
      "       [-1.4196159 , -1.4228    ,  0.15622279, -0.5129138 ,  0.76177347,\n",
      "        -0.22667478,  1.2418742 ,  0.73733026,  0.1914168 ,  0.14756829],\n",
      "       [-0.05744042,  0.31716776, -0.23429021,  0.17735797,  0.98136264,\n",
      "         0.46373627,  1.1167685 ,  0.24953288, -0.01547592, -0.5710381 ],\n",
      "       [-0.3485149 , -0.89898413, -0.5834177 , -0.7817543 , -0.841833  ,\n",
      "        -0.44376245,  1.533586  ,  0.32075983, -0.30407047, -0.35513106],\n",
      "       [-0.19476111,  0.07522955, -1.0018018 ,  0.35937983,  0.10072792,\n",
      "         0.5093795 , -0.20497623, -0.01590185, -0.9596023 , -0.27659434],\n",
      "       [ 0.3450889 ,  0.48389688,  0.5820409 ,  0.26529256,  0.4948007 ,\n",
      "         0.18747978,  0.18298335, -0.54970306, -1.0488452 , -0.28736776],\n",
      "       [ 2.2274349 ,  0.10974126, -0.02724968,  0.33799335,  0.8181165 ,\n",
      "        -0.7352235 , -0.4031652 ,  0.7859862 ,  0.0454511 , -0.4567353 ]],      dtype=float32)}\n",
      "{'b': Array([-0.0086399,  1.2191077], dtype=float32), 'w': Array([[ 2.596785  , -2.3087919 ],\n",
      "       [ 0.76741135, -1.3857856 ],\n",
      "       [ 0.15971184, -0.52813286],\n",
      "       [ 0.7114162 , -1.176726  ],\n",
      "       [ 0.47994524, -0.1963123 ],\n",
      "       [ 0.5488373 , -0.60712117],\n",
      "       [-0.28272462,  1.5783263 ],\n",
      "       [ 0.51907814, -0.21598761],\n",
      "       [ 0.3224555 , -0.27761567],\n",
      "       [-0.14089392, -0.3584109 ]], dtype=float32)}\n"
     ]
    }
   ],
   "source": [
    "for key in state.params.keys():\n",
    "    print(state.params[key])\n",
    "    # plt.hist(state.params[key])"
   ]
  },
  {
   "cell_type": "code",
   "execution_count": null,
   "metadata": {},
   "outputs": [],
   "source": []
  }
 ],
 "metadata": {
  "kernelspec": {
   "display_name": "Python 3 (ipykernel)",
   "language": "python",
   "name": "python3"
  },
  "language_info": {
   "codemirror_mode": {
    "name": "ipython",
    "version": 3
   },
   "file_extension": ".py",
   "mimetype": "text/x-python",
   "name": "python",
   "nbconvert_exporter": "python",
   "pygments_lexer": "ipython3",
   "version": "3.10.6"
  }
 },
 "nbformat": 4,
 "nbformat_minor": 4
}
