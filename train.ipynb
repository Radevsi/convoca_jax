{
 "cells": [
  {
   "cell_type": "code",
   "execution_count": 1,
   "metadata": {},
   "outputs": [
    {
     "name": "stderr",
     "output_type": "stream",
     "text": [
      "\u001b[34m\u001b[1mwandb\u001b[0m: Logging into wandb.ai. (Learn how to deploy a W&B server locally: https://wandb.me/wandb-server)\n",
      "\u001b[34m\u001b[1mwandb\u001b[0m: You can find your API key in your browser here: https://wandb.ai/authorize\n",
      "\u001b[34m\u001b[1mwandb\u001b[0m: Paste an API key from your profile and hit enter, or press ctrl+c to quit:"
     ]
    },
    {
     "name": "stdin",
     "output_type": "stream",
     "text": [
      "  ········\n"
     ]
    },
    {
     "name": "stderr",
     "output_type": "stream",
     "text": [
      "\u001b[34m\u001b[1mwandb\u001b[0m: Appending key for api.wandb.ai to your netrc file: /home/sradev/.netrc\n"
     ]
    },
    {
     "data": {
      "text/plain": [
       "True"
      ]
     },
     "execution_count": 1,
     "metadata": {},
     "output_type": "execute_result"
    }
   ],
   "source": [
    "import os \n",
    "\n",
    "# Limit GPU consumption\n",
    "DEVICE = '2'\n",
    "os.environ[\"CUDA_DEVICE_ORDER\"] = \"PCI_BUS_ID\"  # see issue #152\n",
    "os.environ[\"CUDA_VISIBLE_DEVICES\"] = DEVICE\n",
    "\n",
    "os.environ[\"XLA_PYTHON_CLIENT_PREALLOCATE\"] = \"false\"  # add this\n",
    "os.environ[\"XLA_PYTHON_CLIENT_ALLOCATOR\"] = \"platform\"\n",
    "\n",
    "import jax\n",
    "import jax.numpy as jnp\n",
    "import numpy as np\n",
    "\n",
    "# import haiku as hk\n",
    "# import optax\n",
    "from einops import repeat, rearrange\n",
    "\n",
    "import matplotlib.pyplot as plt\n",
    "\n",
    "import importlib\n",
    "import sys\n",
    "\n",
    "import wandb\n",
    "import cellpylib as cpl\n",
    "\n",
    "import model\n",
    "import dataloader\n",
    "import trainer\n",
    "# from model import network_fn, logit_to_preds\n",
    "# from dataloader import make_game_of_life\n",
    "importlib.reload(sys.modules['model'])\n",
    "importlib.reload(sys.modules['dataloader'])\n",
    "importlib.reload(sys.modules['trainer'])\n",
    "from model import network_fn, logit_to_preds\n",
    "from dataloader import make_game_of_life, dataloader\n",
    "from trainer import Trainer, Batch, TrainState\n",
    "\n",
    "wandb.login()"
   ]
  },
  {
   "cell_type": "code",
   "execution_count": 2,
   "metadata": {},
   "outputs": [],
   "source": [
    "## First we create a config file\n",
    "\n",
    "# Some hyperparameters\n",
    "num_classes = 2  # number of classes per cell (i.e. bits)\n",
    "wspan, hspan = 60, 60  # height and width of grid\n",
    "layer_dims = [10, 10, 10, 10] # let's add a third layer for depth\n",
    "train_size = 30\n",
    "\n",
    "# Create a dictionary of hyperparameters\n",
    "config = {\n",
    "    \"train_size\": train_size,          # number of samples \n",
    "    \"wspan\": wspan,             # width of grid \n",
    "    \"hspan\": hspan,             # height of grid\n",
    "    \"num_classes\": num_classes, # number of states for each cell\n",
    "    \"layer_dims\": layer_dims,\n",
    "    \"learning_rate\": 1e-2\n",
    "}\n",
    "\n",
    "generate_gol_data = dataloader(config['num_classes'],\n",
    "    config['wspan'],\n",
    "    config['hspan']\n",
    ")\n",
    "\n",
    "# X_train, Y_train = generate_gol_data(\n",
    "#     config['train_size']\n",
    "# )\n",
    "\n",
    "# print(X_train.shape, Y_train.shape, X_train.dtype)"
   ]
  },
  {
   "cell_type": "code",
   "execution_count": 3,
   "metadata": {},
   "outputs": [],
   "source": [
    "## Now we start playing with getting different datasets (besides just the game of life)\n",
    "\n",
    "def generate_totalistic_data(config, random_rule=None, random_init=True, stride=1):\n",
    "    \"\"\"\n",
    "    Uses the cellpylib library to get X and Y datasets from 2D totalistic rules. Also allows\n",
    "    the game of life. \n",
    "\n",
    "    :param config: dict, the configuration dictionary used in this code infrastructure\n",
    "    :param random_rule: int, the code corresponding to a specific 2D rule. Default None.\n",
    "    :param random_init: bool, whether to initialize the grid randomly or from a single seed. Default True.\n",
    "    :param stride: int, a number telling how many time steps apart is each\n",
    "        corresponding (x, y) pair in the dataset. Default 1. \n",
    "\n",
    "    :return: tuple of X train set, Y train set, and the updated configuration dictionary\n",
    "    \"\"\"\n",
    "\n",
    "    hspan, wspan = config['hspan'], config['wspan']\n",
    "    k = config['num_classes']\n",
    "    timesteps = stride * config['train_size']\n",
    "    # train_size = config['train_size']\n",
    "\n",
    "    if random_rule is None:\n",
    "        # For k=2, the maximum rule number is 1023 (I think)\n",
    "        random_rule = np.random.randint(1024) # get some random number\n",
    "    \n",
    "    # First create the initial grid\n",
    "    if random_init:\n",
    "        initial_ca_state = cpl.init_random2d(rows=hspan, cols=wspan, k=k)\n",
    "    else:  # Else initialize with single seed in the center\n",
    "        initial_ca_state = cpl.init_simple2d(rows=hspan, cols=wspan)\n",
    "\n",
    "    # If random rule is the Game of Life\n",
    "    if random_rule == 'gol':\n",
    "        cellular_automaton = cpl.evolve2d(initial_ca_state, timesteps=timesteps, \n",
    "                     apply_rule=cpl.game_of_life_rule, memoize='recursive')\n",
    "    else:    \n",
    "        cellular_automaton = cpl.evolve2d(initial_ca_state, timesteps=timesteps, memoize=True,\n",
    "                                          apply_rule=lambda n,c,t: cpl.totalistic_rule(n, k=k, rule=random_rule))\n",
    "    \n",
    "    # Calculate some statistics about this cellular automaton\n",
    "    entropy = cpl.average_cell_entropy(cellular_automaton)\n",
    "    avg_mutual_information = cpl.average_mutual_information(cellular_automaton)\n",
    "\n",
    "    # Generate the X and Y training sets, striding the ca appropriately\n",
    "    strided_cellular_automaton = cellular_automaton[::stride]\n",
    "    X_train = strided_cellular_automaton[:-1]\n",
    "    Y_train = strided_cellular_automaton[1:]\n",
    "\n",
    "    # cpl.plot2d(initial_ca_state)\n",
    "    # cpl.plot2d(cellular_automaton)\n",
    "    print(f\"Shannon entropy: {entropy}\")\n",
    "    print(f\"The average mutual information is: {avg_mutual_information}\")\n",
    "    print(f\"Random totalistic rule: {random_rule}\")\n",
    "\n",
    "    # Add information to config dictionary\n",
    "    config['entropy'] = entropy\n",
    "    config['avg_mutual_information'] = avg_mutual_information\n",
    "    \n",
    "    return X_train.astype(np.float32), Y_train.astype(np.float32), config\n"
   ]
  },
  {
   "cell_type": "code",
   "execution_count": 4,
   "metadata": {},
   "outputs": [
    {
     "name": "stdout",
     "output_type": "stream",
     "text": [
      "Shannon entropy: 1.528444094513062\n",
      "The average mutual information is: 1.0641744489652214\n",
      "Random totalistic rule: 126\n",
      "\n",
      "Last state of the CA looks like this:\n"
     ]
    },
    {
     "data": {
      "image/png": "[encoded data removed]",
      "text/plain": [
       "<Figure size 640x480 with 1 Axes>"
      ]
     },
     "metadata": {},
     "output_type": "display_data"
    },
    {
     "name": "stdout",
     "output_type": "stream",
     "text": [
      "CPU times: user 5.17 s, sys: 152 ms, total: 5.32 s\n",
      "Wall time: 5.07 s\n"
     ]
    }
   ],
   "source": [
    "%%time\n",
    "X_train, Y_train, config = generate_totalistic_data(config, random_rule=126, random_init=False, stride=1)\n",
    "print(\"\\nLast state of the CA looks like this:\")\n",
    "cpl.plot2d(Y_train)"
   ]
  },
  {
   "cell_type": "code",
   "execution_count": 15,
   "metadata": {
    "collapsed": true,
    "jupyter": {
     "outputs_hidden": true,
     "source_hidden": true
    }
   },
   "outputs": [
    {
     "data": {
      "image/png": "[encoded data removed]",
      "text/plain": [
       "<Figure size 640x480 with 1 Axes>"
      ]
     },
     "metadata": {},
     "output_type": "display_data"
    },
    {
     "data": {
      "image/png": "[encoded data removed]",
      "text/plain": [
       "<Figure size 640x480 with 1 Axes>"
      ]
     },
     "metadata": {},
     "output_type": "display_data"
    },
    {
     "name": "stdout",
     "output_type": "stream",
     "text": [
      "(29, 60, 60) (29, 60, 60) (1, 60, 60) (1, 60, 60) {'train_size': 30, 'wspan': 60, 'hspan': 60, 'num_classes': 2, 'layer_dims': [10, 10, 10, 10], 'learning_rate': 0.01, 'entropy': 1.528444094513062, 'avg_mutual_information': 1.0641744489652214}\n"
     ]
    }
   ],
   "source": [
    "## Create data with single seed as X and target img as Y\n",
    "n_image = 1\n",
    "\n",
    "seed = X_train[n_image-1:n_image, ...]\n",
    "target_img = Y_train[-1:]\n",
    "\n",
    "cpl.plot2d(seed)\n",
    "cpl.plot2d(target_img)\n",
    "\n",
    "# Print some information\n",
    "print(X_train.shape, Y_train.shape, seed.shape, target_img.shape, config)"
   ]
  },
  {
   "cell_type": "code",
   "execution_count": 49,
   "metadata": {
    "jupyter": {
     "source_hidden": true
    }
   },
   "outputs": [
    {
     "name": "stdout",
     "output_type": "stream",
     "text": [
      "(8, 60, 60, 16) (8, 60, 60, 16)\n"
     ]
    }
   ],
   "source": [
    "## Batch the seed and target imgs\n",
    "BATCH_SIZE = 8\n",
    "CHANNEL_N = 16\n",
    "\n",
    "batched_seed = repeat(seed, 'b h w -> (n b) h w c', n=BATCH_SIZE, c=CHANNEL_N)\n",
    "batched_target_img = repeat(target_img, 'b h w -> (n b) h w c', n=BATCH_SIZE, c=CHANNEL_N)\n",
    "print(batched_seed.shape, batched_target_img.shape)\n",
    "\n",
    "# Make 4th channel dimension be all ones\n",
    "batched_seed[..., 3:] = np.ones_like(batched_seed[..., 3:])\n",
    "batched_target_img[..., 3:] = np.ones_like(batched_target_img[..., 3:])"
   ]
  },
  {
   "cell_type": "code",
   "execution_count": 52,
   "metadata": {
    "collapsed": true,
    "jupyter": {
     "outputs_hidden": true,
     "source_hidden": true
    }
   },
   "outputs": [
    {
     "data": {
      "image/png": "[encoded data removed]",
      "text/plain": [
       "<Figure size 640x480 with 1 Axes>"
      ]
     },
     "metadata": {},
     "output_type": "display_data"
    }
   ],
   "source": [
    "plt.imshow(batched_target_img[0, ..., :4])\n",
    "plt.show()"
   ]
  },
  {
   "cell_type": "code",
   "execution_count": 42,
   "metadata": {
    "collapsed": true,
    "jupyter": {
     "outputs_hidden": true,
     "source_hidden": true
    }
   },
   "outputs": [
    {
     "name": "stdout",
     "output_type": "stream",
     "text": [
      "(60, 60, 1)\n"
     ]
    },
    {
     "data": {
      "text/plain": [
       "<matplotlib.image.AxesImage at 0x7f050811a320>"
      ]
     },
     "execution_count": 42,
     "metadata": {},
     "output_type": "execute_result"
    },
    {
     "data": {
      "image/png": "[encoded data removed]",
      "text/plain": [
       "<Figure size 640x480 with 1 Axes>"
      ]
     },
     "metadata": {},
     "output_type": "display_data"
    }
   ],
   "source": [
    "fst = batched_target_img[0, ..., 0:1]\n",
    "snd = batched_target_img[0, ..., 1:2]\n",
    "thrd = batched_target_img[0, ..., 2:3]\n",
    "frth = batched_target_img[0, ..., 3:4]\n",
    "\n",
    "print(fst.shape)\n",
    "plt.imshow(frth, cmap='gray')"
   ]
  },
  {
   "cell_type": "code",
   "execution_count": 5,
   "metadata": {},
   "outputs": [
    {
     "data": {
      "text/html": [
       "Tracking run with wandb version 0.15.5"
      ],
      "text/plain": [
       "<IPython.core.display.HTML object>"
      ]
     },
     "metadata": {},
     "output_type": "display_data"
    },
    {
     "data": {
      "text/html": [
       "Run data is saved locally in <code>/u/sradev/projects/caproject/convoca_jax/wandb/run-20230713_155301-945tkiad</code>"
      ],
      "text/plain": [
       "<IPython.core.display.HTML object>"
      ]
     },
     "metadata": {},
     "output_type": "display_data"
    },
    {
     "data": {
      "text/html": [
       "Syncing run <strong><a href='https://wandb.ai/bulgari-yunazi/convoca_jax/runs/945tkiad' target=\"_blank\">splendid-frost-102</a></strong> to <a href='https://wandb.ai/bulgari-yunazi/convoca_jax' target=\"_blank\">Weights & Biases</a> (<a href='https://wandb.me/run' target=\"_blank\">docs</a>)<br/>"
      ],
      "text/plain": [
       "<IPython.core.display.HTML object>"
      ]
     },
     "metadata": {},
     "output_type": "display_data"
    },
    {
     "data": {
      "text/html": [
       " View project at <a href='https://wandb.ai/bulgari-yunazi/convoca_jax' target=\"_blank\">https://wandb.ai/bulgari-yunazi/convoca_jax</a>"
      ],
      "text/plain": [
       "<IPython.core.display.HTML object>"
      ]
     },
     "metadata": {},
     "output_type": "display_data"
    },
    {
     "data": {
      "text/html": [
       " View run at <a href='https://wandb.ai/bulgari-yunazi/convoca_jax/runs/945tkiad' target=\"_blank\">https://wandb.ai/bulgari-yunazi/convoca_jax/runs/945tkiad</a>"
      ],
      "text/plain": [
       "<IPython.core.display.HTML object>"
      ]
     },
     "metadata": {},
     "output_type": "display_data"
    }
   ],
   "source": [
    "trainer = Trainer(network_fn, config, X_train, Y_train, n_iter=1, \n",
    "                  tags=[\"four-layer_dim\", \"one-n_iter\", \"seed_init\", \"zero_init_params\", \"2-classes\"])\n",
    "\n",
    "# trainer = Trainer(network_fn, config, batched_seed, batched_target_img, n_iter=config['train_size'], \n",
    "#                   tags=[\"four-layer_dim\", \"train_size-n_iter\", \"seed_init\", \"zero_init_params\", \"2-classes\",\n",
    "#                         \"single_target\",\n",
    "#                        ]\n",
    "#                  )"
   ]
  },
  {
   "cell_type": "code",
   "execution_count": null,
   "metadata": {},
   "outputs": [
    {
     "name": "stdout",
     "output_type": "stream",
     "text": [
      "Initializing model\n"
     ]
    }
   ],
   "source": [
    "state, loss, batch = trainer.train(epochs=701)"
   ]
  },
  {
   "cell_type": "code",
   "execution_count": null,
   "metadata": {},
   "outputs": [],
   "source": [
    "losses, logits, preds = trainer.evaluate(state, batch, return_logits=True)\n",
    "logits.shape, preds.shape, losses.shape"
   ]
  },
  {
   "cell_type": "code",
   "execution_count": 12,
   "metadata": {},
   "outputs": [
    {
     "name": "stdout",
     "output_type": "stream",
     "text": [
      "Showing output for sample index 8\n"
     ]
    },
    {
     "data": {
      "image/png": "[encoded data removed]",
      "text/plain": [
       "<Figure size 640x480 with 3 Axes>"
      ]
     },
     "metadata": {},
     "output_type": "display_data"
    }
   ],
   "source": [
    "def sample_output(i=None):\n",
    "    if i is None:\n",
    "        i = np.random.randint(len(batch.input_states)-1)\n",
    "    \n",
    "    fig, (ax0, ax1, ax2) = plt.subplots(1, 3)\n",
    "    ax0.imshow(batch.input_states[i], cmap='gray')\n",
    "    ax1.imshow(preds[i], cmap='gray')\n",
    "    ax2.imshow(batch.output_states[i], cmap='gray')\n",
    "\n",
    "    print(f\"Showing output for sample index {i}\")\n",
    "    ax0.set_title(\"Input state\")\n",
    "    ax1.set_title(f\"Network prediction\\n Loss: {losses[i]:.3f}\")\n",
    "    ax2.set_title(\"Expected output\")\n",
    "\n",
    "    # print(np.allclose(preds[i], batch.output_states[i], 1))\n",
    "    \n",
    "    fig.show()\n",
    "\n",
    "sample_output()"
   ]
  },
  {
   "cell_type": "code",
   "execution_count": null,
   "metadata": {},
   "outputs": [],
   "source": [
    "fig, ((ax1, ax2)) = plt.subplots(1, 2, figsize=(10, 4))\n",
    "\n",
    "ax1.hist(logits[..., 0])\n",
    "ax2.hist(logits[..., 1])\n",
    "\n",
    "fig.show()"
   ]
  },
  {
   "cell_type": "code",
   "execution_count": 78,
   "metadata": {
    "collapsed": true,
    "jupyter": {
     "outputs_hidden": true,
     "source_hidden": true
    }
   },
   "outputs": [
    {
     "data": {
      "image/png": "[encoded data removed]",
      "text/plain": [
       "<Figure size 1000x400 with 4 Axes>"
      ]
     },
     "metadata": {},
     "output_type": "display_data"
    }
   ],
   "source": [
    "fig, ((ax1, ax2), (ax3, ax4)) = plt.subplots(2, 2, figsize=(10, 4))\n",
    "\n",
    "ax1.hist(logits[..., 0])\n",
    "ax2.hist(logits[..., 1])\n",
    "\n",
    "ax3.hist(preds.flatten())\n",
    "\n",
    "fig.show()"
   ]
  },
  {
   "cell_type": "code",
   "execution_count": null,
   "metadata": {},
   "outputs": [],
   "source": []
  },
  {
   "cell_type": "code",
   "execution_count": 70,
   "metadata": {},
   "outputs": [
    {
     "data": {
      "image/png": "[encoded data removed]",
      "text/plain": [
       "<Figure size 1000x400 with 4 Axes>"
      ]
     },
     "metadata": {},
     "output_type": "display_data"
    }
   ],
   "source": [
    "fig, ((ax1, ax2), (ax3, ax4)) = plt.subplots(2, 2, figsize=(10, 4))\n",
    "\n",
    "ax1.hist(logits_bad[..., 0])\n",
    "ax2.hist(logits_bad[..., 1])\n",
    "\n",
    "ax3.hist(preds_bad.flatten())\n",
    "\n",
    "fig.show()"
   ]
  },
  {
   "cell_type": "code",
   "execution_count": 72,
   "metadata": {},
   "outputs": [],
   "source": [
    "logits_bad, preds_bad, losses_bad = logits.copy(), preds.copy(), losses.copy()"
   ]
  },
  {
   "cell_type": "code",
   "execution_count": 18,
   "metadata": {},
   "outputs": [
    {
     "data": {
      "text/plain": [
       "8"
      ]
     },
     "execution_count": 18,
     "metadata": {},
     "output_type": "execute_result"
    }
   ],
   "source": [
    "len(batch.input_states)"
   ]
  },
  {
   "cell_type": "code",
   "execution_count": 61,
   "metadata": {},
   "outputs": [
    {
     "data": {
      "text/plain": [
       "dict_keys(['ca_module/linear', 'ca_module/linear_1', 'ca_module/linear_2', 'ca_module/linear_3', 'ca_module/~/conv2_d', 'ca_module/~/linear'])"
      ]
     },
     "execution_count": 61,
     "metadata": {},
     "output_type": "execute_result"
    }
   ],
   "source": [
    "state.params.keys()"
   ]
  },
  {
   "cell_type": "code",
   "execution_count": 62,
   "metadata": {},
   "outputs": [
    {
     "data": {
      "text/plain": [
       "{'b': Array([-0.18507124,  0.12888785, -0.55296755, -0.59000057,  0.43481705,\n",
       "         0.42544165, -0.95925707,  0.6403715 ,  0.88835746,  0.02146218],      dtype=float32),\n",
       " 'w': Array([[-0.46011412, -0.49597123,  0.23403665,  0.75543416, -0.70649654,\n",
       "          0.1633972 ,  0.0887604 ,  0.46050438, -0.88369155,  0.8519378 ],\n",
       "        [ 0.740303  ,  0.25721818,  0.16617723, -0.4229739 ,  0.07615218,\n",
       "          0.03060856, -0.17897984,  0.16033585, -0.23333426, -0.7510644 ],\n",
       "        [-0.8221125 , -0.4303284 , -0.5402759 , -0.5012186 , -0.5365846 ,\n",
       "          0.5505804 , -0.23899461,  0.59414756,  0.41625816, -0.5035645 ],\n",
       "        [-0.6828878 ,  0.46190402, -0.4170725 ,  0.38691446, -0.08315893,\n",
       "          0.05753154,  0.134914  ,  0.341183  , -0.264602  , -0.6294272 ],\n",
       "        [ 0.01463615,  0.46334365,  0.6845521 , -1.4652092 , -0.9418234 ,\n",
       "         -0.47022212,  0.07483642, -0.08657282,  1.3146877 ,  0.4858109 ],\n",
       "        [-0.20411657, -0.44177487, -0.2180563 ,  0.24908973, -0.30077153,\n",
       "          0.3827787 ,  0.29169476, -0.5345961 , -0.07564944, -0.30862367],\n",
       "        [ 0.73245424,  1.2269064 ,  0.6036262 ,  0.4196664 ,  0.45891663,\n",
       "          0.28810418,  0.08500099,  0.18914567, -0.13402843,  0.26884988],\n",
       "        [ 0.03710915,  0.7843532 , -0.22955091, -0.77414733,  0.25458553,\n",
       "          0.05456428,  0.4811624 ,  0.43895096, -0.01554945, -0.11799341],\n",
       "        [-0.046591  ,  0.7086177 ,  0.63647616,  0.02061408, -0.597685  ,\n",
       "         -0.93378997, -0.8553446 , -0.08189292,  1.0622998 ,  0.3026671 ],\n",
       "        [-0.17383698, -0.04786556, -0.1518321 ,  0.6142853 , -1.5679147 ,\n",
       "         -0.12533283,  0.01348377,  0.11198559,  0.87279254, -0.7918706 ]],      dtype=float32)}"
      ]
     },
     "execution_count": 62,
     "metadata": {},
     "output_type": "execute_result"
    }
   ],
   "source": [
    "state.params['ca_module/linear_3']"
   ]
  },
  {
   "cell_type": "code",
   "execution_count": 141,
   "metadata": {
    "collapsed": true,
    "jupyter": {
     "outputs_hidden": true
    }
   },
   "outputs": [
    {
     "name": "stdout",
     "output_type": "stream",
     "text": [
      "{'b': Array([0., 0., 0., 0., 0., 0., 0., 0., 0., 0.], dtype=float32), 'w': Array([[0., 0., 0., 0., 0., 0., 0., 0., 0., 0.],\n",
      "       [0., 0., 0., 0., 0., 0., 0., 0., 0., 0.],\n",
      "       [0., 0., 0., 0., 0., 0., 0., 0., 0., 0.],\n",
      "       [0., 0., 0., 0., 0., 0., 0., 0., 0., 0.],\n",
      "       [0., 0., 0., 0., 0., 0., 0., 0., 0., 0.],\n",
      "       [0., 0., 0., 0., 0., 0., 0., 0., 0., 0.],\n",
      "       [0., 0., 0., 0., 0., 0., 0., 0., 0., 0.],\n",
      "       [0., 0., 0., 0., 0., 0., 0., 0., 0., 0.],\n",
      "       [0., 0., 0., 0., 0., 0., 0., 0., 0., 0.],\n",
      "       [0., 0., 0., 0., 0., 0., 0., 0., 0., 0.]], dtype=float32)}\n",
      "{'b': Array([0., 0., 0., 0., 0., 0., 0., 0., 0., 0.], dtype=float32), 'w': Array([[0., 0., 0., 0., 0., 0., 0., 0., 0., 0.],\n",
      "       [0., 0., 0., 0., 0., 0., 0., 0., 0., 0.],\n",
      "       [0., 0., 0., 0., 0., 0., 0., 0., 0., 0.],\n",
      "       [0., 0., 0., 0., 0., 0., 0., 0., 0., 0.],\n",
      "       [0., 0., 0., 0., 0., 0., 0., 0., 0., 0.],\n",
      "       [0., 0., 0., 0., 0., 0., 0., 0., 0., 0.],\n",
      "       [0., 0., 0., 0., 0., 0., 0., 0., 0., 0.],\n",
      "       [0., 0., 0., 0., 0., 0., 0., 0., 0., 0.],\n",
      "       [0., 0., 0., 0., 0., 0., 0., 0., 0., 0.],\n",
      "       [0., 0., 0., 0., 0., 0., 0., 0., 0., 0.]], dtype=float32)}\n",
      "{'b': Array([0., 0., 0., 0., 0., 0., 0., 0., 0., 0.], dtype=float32), 'w': Array([[0., 0., 0., 0., 0., 0., 0., 0., 0., 0.],\n",
      "       [0., 0., 0., 0., 0., 0., 0., 0., 0., 0.],\n",
      "       [0., 0., 0., 0., 0., 0., 0., 0., 0., 0.],\n",
      "       [0., 0., 0., 0., 0., 0., 0., 0., 0., 0.],\n",
      "       [0., 0., 0., 0., 0., 0., 0., 0., 0., 0.],\n",
      "       [0., 0., 0., 0., 0., 0., 0., 0., 0., 0.],\n",
      "       [0., 0., 0., 0., 0., 0., 0., 0., 0., 0.],\n",
      "       [0., 0., 0., 0., 0., 0., 0., 0., 0., 0.],\n",
      "       [0., 0., 0., 0., 0., 0., 0., 0., 0., 0.],\n",
      "       [0., 0., 0., 0., 0., 0., 0., 0., 0., 0.]], dtype=float32)}\n",
      "{'b': Array([0., 0., 0., 0., 0., 0., 0., 0., 0., 0.], dtype=float32), 'w': Array([[0., 0., 0., 0., 0., 0., 0., 0., 0., 0.],\n",
      "       [0., 0., 0., 0., 0., 0., 0., 0., 0., 0.],\n",
      "       [0., 0., 0., 0., 0., 0., 0., 0., 0., 0.],\n",
      "       [0., 0., 0., 0., 0., 0., 0., 0., 0., 0.],\n",
      "       [0., 0., 0., 0., 0., 0., 0., 0., 0., 0.],\n",
      "       [0., 0., 0., 0., 0., 0., 0., 0., 0., 0.],\n",
      "       [0., 0., 0., 0., 0., 0., 0., 0., 0., 0.],\n",
      "       [0., 0., 0., 0., 0., 0., 0., 0., 0., 0.],\n",
      "       [0., 0., 0., 0., 0., 0., 0., 0., 0., 0.],\n",
      "       [0., 0., 0., 0., 0., 0., 0., 0., 0., 0.]], dtype=float32)}\n",
      "{'b': Array([-0.49896342,  0.03103464, -0.19636767,  0.29525244,  0.4720407 ,\n",
      "       -0.06343219,  0.01814292,  0.25359258,  0.06447461, -0.5744708 ],      dtype=float32), 'w': Array([[[[-0.2685529 ,  0.31791878,  0.5939355 , -0.11807597,\n",
      "           0.07838795,  0.3638393 , -0.03932116,  0.11071165,\n",
      "           0.3136177 ,  0.62815684]],\n",
      "\n",
      "        [[-0.5655458 ,  0.7917605 , -0.4330289 ,  0.30151722,\n",
      "           0.06471325,  0.3669718 ,  0.2814324 , -0.81479853,\n",
      "          -0.86326975, -0.18005343]],\n",
      "\n",
      "        [[-0.1403373 , -0.4839393 ,  0.37082773, -0.10833082,\n",
      "           0.20131625, -0.05482083, -0.03990911, -0.8981542 ,\n",
      "          -0.29692864, -0.6135445 ]]],\n",
      "\n",
      "\n",
      "       [[[ 0.23778538, -0.16640238, -0.10593622,  0.4113644 ,\n",
      "          -0.59489536, -0.15840492, -0.23070124, -0.2654252 ,\n",
      "           0.9904991 , -0.1897806 ]],\n",
      "\n",
      "        [[-0.18267801, -0.19758527, -0.17637867,  0.6511082 ,\n",
      "           0.2449603 , -0.04273839,  0.53947127,  0.3650308 ,\n",
      "           0.3034701 ,  0.7720816 ]],\n",
      "\n",
      "        [[-0.19370687, -0.83458847, -0.4090704 , -0.15592873,\n",
      "           0.58429104, -0.99993473,  0.15766732,  0.27858594,\n",
      "           1.0521448 , -0.90715516]]],\n",
      "\n",
      "\n",
      "       [[[-1.0030003 ,  0.3406097 , -0.41366032,  0.9469349 ,\n",
      "          -0.37928158, -0.03932898,  0.19755289, -0.4771979 ,\n",
      "           0.01979366, -0.09507767]],\n",
      "\n",
      "        [[ 0.4992475 ,  0.42796618,  0.7654813 , -0.6441161 ,\n",
      "          -0.00650663, -0.64818364, -0.34086993,  0.25315228,\n",
      "           0.03160291, -0.07944591]],\n",
      "\n",
      "        [[ 0.7385114 , -0.16344084, -0.4072646 ,  0.29444665,\n",
      "           0.88800484,  0.60717463, -0.29503363,  0.31980607,\n",
      "          -0.48339078, -0.12324787]]]], dtype=float32)}\n",
      "{'b': Array([0., 0.], dtype=float32), 'w': Array([[0., 0.],\n",
      "       [0., 0.],\n",
      "       [0., 0.],\n",
      "       [0., 0.],\n",
      "       [0., 0.],\n",
      "       [0., 0.],\n",
      "       [0., 0.],\n",
      "       [0., 0.],\n",
      "       [0., 0.],\n",
      "       [0., 0.]], dtype=float32)}\n"
     ]
    }
   ],
   "source": [
    "for key in state.params.keys():\n",
    "    print(state.params[key])\n",
    "    # plt.hist(state.params[key])"
   ]
  },
  {
   "cell_type": "code",
   "execution_count": 80,
   "metadata": {},
   "outputs": [
    {
     "name": "stdout",
     "output_type": "stream",
     "text": [
      "[1, 2, 3, 4, 5, 6, 7, 8, 9, 10, 11, 12, 13, 14, 15]\n",
      "[1, 2, 3, 4, 5, 6, 7, 8, 9, 10, 11, 12, 13, 14] [2, 3, 4, 5, 6, 7, 8, 9, 10, 11, 12, 13, 14, 15]\n",
      "\n",
      "Two steps apart:\n",
      "[1, 3, 5, 7, 9, 11, 13, 15]\n",
      "[1, 3, 5, 7, 9, 11, 13]\n",
      "[3, 5, 7, 9, 11, 13, 15]\n",
      "\n",
      "[1, 3, 5, 7, 9, 11, 13] [3, 5, 7, 9, 11, 13, 15]\n"
     ]
    }
   ],
   "source": [
    "testl = [1,2,3,4,5,6,7,8,9,10,11,12,13,14,15]\n",
    "print(testl)\n",
    "\n",
    "testX = testl[:-1]\n",
    "testY = testl[1:]\n",
    "\n",
    "# This prints the X and Y sets, one time step apart\n",
    "print(testX, testY)\n",
    "\n",
    "# Now try them two time steps apart:\n",
    "print(\"\\nTwo steps apart:\")\n",
    "testl2 = testl[::2]  # copy the list, skipping over every other element\n",
    "print(testl2)\n",
    "\n",
    "testX2 = testl2[:-1]\n",
    "testY2 = testl2[1:]\n",
    "\n",
    "print(testX2)\n",
    "print(testY2)\n",
    "\n",
    "testX3 = testl[::2][:-1]\n",
    "testY3 = testl[::2][1:]\n",
    "\n",
    "print()\n",
    "print(testX3, testY3)\n",
    "\n",
    "## For general n steps apart, just replace the 2 in the slice above with `n`"
   ]
  },
  {
   "cell_type": "code",
   "execution_count": null,
   "metadata": {},
   "outputs": [],
   "source": []
  }
 ],
 "metadata": {
  "kernelspec": {
   "display_name": "Python 3 (ipykernel)",
   "language": "python",
   "name": "python3"
  },
  "language_info": {
   "codemirror_mode": {
    "name": "ipython",
    "version": 3
   },
   "file_extension": ".py",
   "mimetype": "text/x-python",
   "name": "python",
   "nbconvert_exporter": "python",
   "pygments_lexer": "ipython3",
   "version": "3.10.6"
  }
 },
 "nbformat": 4,
 "nbformat_minor": 4
}
