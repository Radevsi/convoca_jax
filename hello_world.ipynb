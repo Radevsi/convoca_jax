{
 "cells": [
  {
   "cell_type": "code",
   "execution_count": 1,
   "id": "2827ba10-9221-43d3-862b-f2f7896bd10f",
   "metadata": {},
   "outputs": [],
   "source": [
    "import os \n",
    "\n",
    "# Limit GPU consumption\n",
    "DEVICE = '2'\n",
    "os.environ[\"CUDA_DEVICE_ORDER\"] = \"PCI_BUS_ID\"  # see issue #152\n",
    "os.environ[\"CUDA_VISIBLE_DEVICES\"] = DEVICE\n",
    "\n",
    "os.environ[\"XLA_PYTHON_CLIENT_PREALLOCATE\"] = \"false\"  # add this\n",
    "os.environ[\"XLA_PYTHON_CLIENT_ALLOCATOR\"] = \"platform\"\n",
    "\n",
    "import jax\n",
    "import jax.numpy as jnp\n",
    "import numpy as np\n",
    "\n",
    "import haiku as hk\n",
    "import optax\n",
    "\n",
    "import matplotlib.pyplot as plt\n",
    "\n",
    "# Make matplotlib do grayscale stuff\n",
    "# plt.rcParams['image.cmap'] = 'gray'"
   ]
  },
  {
   "cell_type": "code",
   "execution_count": 119,
   "id": "b490bc85-2119-42a9-96f0-2647d30267cf",
   "metadata": {},
   "outputs": [
    {
     "name": "stdout",
     "output_type": "stream",
     "text": [
      "1 Physical GPUs, 1 Logical GPUs\n"
     ]
    }
   ],
   "source": [
    "## Import TF temporarily for comparisons\n",
    "\n",
    "import tensorflow as tf\n",
    "\n",
    "gpus = tf.config.list_physical_devices('GPU')\n",
    "if gpus:\n",
    "  try:\n",
    "    # Currently, memory growth needs to be the same across GPUs\n",
    "    for gpu in gpus:\n",
    "      tf.config.experimental.set_memory_growth(gpu, True)\n",
    "    logical_gpus = tf.config.list_logical_devices('GPU')\n",
    "    print(len(gpus), \"Physical GPUs,\", len(logical_gpus), \"Logical GPUs\")\n",
    "  except RuntimeError as e:\n",
    "    # Memory growth must be set before GPUs have been initialized\n",
    "    print(e)\n",
    "\n",
    "def conv_cast(arr, cast_type=tf.float32):\n",
    "    return tf.cast(tf.convert_to_tensor(arr), cast_type)\n",
    "\n",
    "def periodic_padding_tf(image, padding=1):\n",
    "    '''\n",
    "    Create a periodic padding (wrap) around an image stack, to emulate periodic boundary conditions\n",
    "    Adapted from https://github.com/tensorflow/tensorflow/issues/956\n",
    "    \n",
    "    If the image is 3-dimensional (like an image batch), padding occurs along the last two axes\n",
    "    \n",
    "    \n",
    "    '''\n",
    "    if len(image.shape)==2:\n",
    "        upper_pad = image[-padding:,:]\n",
    "        lower_pad = image[:padding,:]\n",
    "\n",
    "        partial_image = tf.concat([upper_pad, image, lower_pad], axis=0)\n",
    "\n",
    "        left_pad = partial_image[:,-padding:]\n",
    "        right_pad = partial_image[:,:padding]\n",
    "\n",
    "        padded_image = tf.concat([left_pad, partial_image, right_pad], axis=1)\n",
    "        \n",
    "    elif len(image.shape)==3:\n",
    "        upper_pad = image[:,-padding:,:]\n",
    "        lower_pad = image[:,:padding,:]\n",
    "\n",
    "        partial_image = tf.concat([upper_pad, image, lower_pad], axis=1)\n",
    "\n",
    "        left_pad = partial_image[:,:,-padding:]\n",
    "        right_pad = partial_image[:,:,:padding]\n",
    "\n",
    "        padded_image = tf.concat([left_pad, partial_image, right_pad], axis=2)\n",
    "        \n",
    "        \n",
    "    else:\n",
    "        assert True, \"Input data shape not understood.\"\n",
    "    \n",
    "    return padded_image\n",
    "\n",
    "\n",
    "def make_game_of_life_tf():\n",
    "    '''\n",
    "    Returns a simplified Tensorflow implementation of Conway's Game of Life\n",
    "    '''\n",
    "    \n",
    "    neighborhood_radius = 3\n",
    "    pad_size = 1\n",
    "\n",
    "    neighbor_filt = np.ones((neighborhood_radius,neighborhood_radius))\n",
    "    neighbor_filt[1,1] = 0\n",
    "    middle_filt = np.zeros((neighborhood_radius,neighborhood_radius))\n",
    "    middle_filt[1,1] = 1\n",
    "    all_filters = np.dstack((middle_filt, neighbor_filt, neighbor_filt, neighbor_filt, neighbor_filt))\n",
    "    all_biases = np.array([0,  -1, -2, -3, -4]) \n",
    "    total_filters = len(all_biases)\n",
    "    kernel = conv_cast(all_filters)[:,:,tf.newaxis,:]\n",
    "    biases = conv_cast(all_biases)\n",
    "    \n",
    "    wh1_arr = np.array([\n",
    "    [0, 0, 4/3, -8/3, -1/3],\n",
    "    [3/2, 5/4, -5, -1/4, -1/4]\n",
    "    ]).T\n",
    "    bh1_arr = np.array([-1/3,-7/4]).T\n",
    "    wh1 = conv_cast(wh1_arr)\n",
    "    bh1 = conv_cast(bh1_arr)\n",
    "    \n",
    "    def my_ca(image_stack):\n",
    "        '''\n",
    "        Automatically generated function created by make_ca()\n",
    "        Input array must already be a tensor when fed to the function\n",
    "        '''\n",
    "        input_padded = periodic_padding_tf(image_stack, pad_size)[...,tf.newaxis]\n",
    "\n",
    "        print(f\"shape of image stack: {image_stack.shape},\\n\\\n",
    "                and input_padded: {input_padded.shape}\")\n",
    "        \n",
    "        conv_image = tf.nn.conv2d(input_padded, kernel, strides=[1,1,1,1], padding='VALID')\n",
    "\n",
    "        print(f\"shape of kernel: {kernel.shape}, conv_image: {conv_image.shape}\")\n",
    "        \n",
    "        activation_image = tf.nn.relu(conv_image + biases)\n",
    "\n",
    "        activated_flat = tf.reshape(activation_image, [-1, total_filters])\n",
    "        \n",
    "        h1 = tf.nn.relu(tf.matmul(activated_flat, wh1) + bh1)\n",
    "\n",
    "        scores = tf.reduce_sum(h1, axis=-1)\n",
    "        next_states = tf.reshape(scores, [*activation_image.shape[:3],1])\n",
    "        \n",
    "        return tf.squeeze(next_states)\n",
    "\n",
    "    return my_ca\n"
   ]
  },
  {
   "cell_type": "markdown",
   "id": "37f1493c-c32a-4428-b281-abdd2937472b",
   "metadata": {},
   "source": [
    "First order of business is to figure out how data works here"
   ]
  },
  {
   "cell_type": "code",
   "execution_count": 175,
   "id": "7c0b3c68-dad7-48b6-9123-45ffb7050da5",
   "metadata": {},
   "outputs": [
    {
     "data": {
      "text/plain": [
       "((100, 10, 10), (10, 10), dtype('float64'))"
      ]
     },
     "execution_count": 175,
     "metadata": {},
     "output_type": "execute_result"
    }
   ],
   "source": [
    "### A cell to generate some data\n",
    "\n",
    "n_states = 2  # number of states for each cell\n",
    "train_size = 100  # number of samples\n",
    "wspan, hspan = 10, 10  # height and width of grid\n",
    "\n",
    "X_train = np.random.choice(list(range(n_states)), \n",
    "                 size=(train_size, wspan, hspan)).astype(float)\n",
    "X_train.shape, X_train[0].shape, X_train.dtype\n",
    "# Y_train.shape\n",
    "\n",
    "# Let's do the game of life "
   ]
  },
  {
   "cell_type": "code",
   "execution_count": 216,
   "id": "1bcf4ecd-3a8b-46fd-827e-10afe3d810b5",
   "metadata": {},
   "outputs": [
    {
     "data": {
      "image/png": "[encoded data removed]",
      "text/plain": [
       "<Figure size 640x480 with 1 Axes>"
      ]
     },
     "metadata": {},
     "output_type": "display_data"
    }
   ],
   "source": [
    "plt.imshow(X_train[50], cmap='gray')\n",
    "# plt.imshow(X_train[50])\n",
    "plt.show()"
   ]
  },
  {
   "cell_type": "code",
   "execution_count": 177,
   "id": "93760d97-bc70-4dfa-a5e2-ae44b783efc2",
   "metadata": {},
   "outputs": [],
   "source": [
    "## Somewhat semi-randomly, I now wonder if there can be a diffusion\n",
    "# inspired analogy here, where we take a state and apply the rule\n",
    "# for some number of steps, randomly, which generates our \"noised\" input\n",
    "# Or rather, this will be what the CA tries to get to. \n",
    "# Then the network can be designed such that the output is some conception\n",
    "# of the rule, which then manually is applied to get the CA at that state.\n",
    "\n",
    "# The loss would have to be (if we maintain the analogy to diffusion),\n",
    "# something between what the model predicts as output (i.e. the \n",
    "# predicted CA rule) and the actual rule. \n",
    "\n",
    "# Get a random seed from JAX\n",
    "rng = jax.random.PRNGKey(22)\n"
   ]
  },
  {
   "cell_type": "code",
   "execution_count": 178,
   "id": "f1d87f23-1a9f-41c6-b8c2-fec082bc4c3e",
   "metadata": {},
   "outputs": [],
   "source": [
    "def periodic_padding(image, padding=1):\n",
    "    '''\n",
    "    Create a periodic padding (wrap) around an image stack, to emulate periodic boundary conditions\n",
    "    Adapted from https://github.com/tensorflow/tensorflow/issues/956\n",
    "    \n",
    "    If the image is 3-dimensional (like an image batch), padding occurs along the last two axes\n",
    "    \n",
    "    \n",
    "    '''\n",
    "    if len(image.shape)==2:\n",
    "        upper_pad = image[-padding:,:]\n",
    "        lower_pad = image[:padding,:]\n",
    "\n",
    "        partial_image = tf.concat([upper_pad, image, lower_pad], axis=0)\n",
    "\n",
    "        left_pad = partial_image[:,-padding:]\n",
    "        right_pad = partial_image[:,:padding]\n",
    "\n",
    "        padded_image = tf.concat([left_pad, partial_image, right_pad], axis=1)\n",
    "        \n",
    "    elif len(image.shape)==3:\n",
    "        upper_pad = image[:,-padding:,:]\n",
    "        lower_pad = image[:,:padding,:]\n",
    "\n",
    "        partial_image = tf.concat([upper_pad, image, lower_pad], axis=1)\n",
    "\n",
    "        left_pad = partial_image[:,:,-padding:]\n",
    "        right_pad = partial_image[:,:,:padding]\n",
    "\n",
    "        padded_image = tf.concat([left_pad, partial_image, right_pad], axis=2)\n",
    "        \n",
    "        \n",
    "    else:\n",
    "        assert True, \"Input data shape not understood.\"\n",
    "    \n",
    "    return padded_image"
   ]
  },
  {
   "cell_type": "code",
   "execution_count": 217,
   "id": "cce4d6e4-08e4-49ab-8849-f78e122f900e",
   "metadata": {},
   "outputs": [
    {
     "name": "stdout",
     "output_type": "stream",
     "text": [
      "(10, 10) (100, 12, 12)\n"
     ]
    },
    {
     "data": {
      "image/png": "[encoded data removed]",
      "text/plain": [
       "<Figure size 640x480 with 1 Axes>"
      ]
     },
     "metadata": {},
     "output_type": "display_data"
    },
    {
     "data": {
      "text/plain": [
       "<matplotlib.image.AxesImage at 0x7faaf069e7d0>"
      ]
     },
     "execution_count": 217,
     "metadata": {},
     "output_type": "execute_result"
    },
    {
     "data": {
      "image/png": "[encoded data removed]",
      "text/plain": [
       "<Figure size 640x480 with 1 Axes>"
      ]
     },
     "metadata": {},
     "output_type": "display_data"
    }
   ],
   "source": [
    "def periodic_padding(image, padding=1):\n",
    "    \"\"\"Do padding (wrap around) for an image stack.\n",
    "        Similarly to Gilpin's work, pad along the last two\n",
    "        axes for 3-dimensional, batched images\n",
    "    \"\"\"\n",
    "    \n",
    "    if len(image.shape) == 2:\n",
    "        upper_pad = image[-padding:, :]\n",
    "        lower_pad = image[:padding, :]\n",
    "    \n",
    "        partial_image = np.concatenate([upper_pad, image, lower_pad], axis=0)\n",
    "    \n",
    "        left_pad = partial_image[:, -padding:]\n",
    "        right_pad = partial_image[:, :padding]\n",
    "    \n",
    "        padded_image = np.concatenate([left_pad, partial_image, right_pad], axis=1)\n",
    "\n",
    "    if len(image.shape) == 3:\n",
    "        upper_pad = image[:, -padding:, :]\n",
    "        lower_pad = image[:, :padding, :]\n",
    "    \n",
    "        partial_image = np.concatenate([upper_pad, image, lower_pad], axis=1)\n",
    "    \n",
    "        left_pad = partial_image[:, :, -padding:]\n",
    "        right_pad = partial_image[:, :, :padding]\n",
    "    \n",
    "        padded_image = np.concatenate([left_pad, partial_image, right_pad], axis=2)\n",
    "\n",
    "    else:\n",
    "        assert True, \"Input data shape not understood.\"\n",
    "        \n",
    "    return padded_image\n",
    "\n",
    "out = periodic_padding(X_train)\n",
    "print(X_train[0].shape, out.shape)\n",
    "\n",
    "plt.imshow(X_train[0], cmap='gray'), \n",
    "plt.show() \n",
    "plt.imshow(out[1], cmap='gray')"
   ]
  },
  {
   "cell_type": "code",
   "execution_count": 218,
   "id": "9da19efa-d47a-48a5-94b3-bc6700ea29fa",
   "metadata": {},
   "outputs": [],
   "source": [
    "def periodic_padding(image, padding=1):\n",
    "    \"\"\"Do padding (wrap around) for an image stack.\n",
    "        Similarly to Gilpin's work, pad along the last two\n",
    "        axes for 3-dimensional, batched images\n",
    "    \"\"\"\n",
    "    \n",
    "    if len(image.shape) == 2:\n",
    "        upper_pad = image[-padding:, :]\n",
    "        lower_pad = image[:padding, :]\n",
    "    \n",
    "        partial_image = np.concatenate([upper_pad, image, lower_pad], axis=0)\n",
    "    \n",
    "        left_pad = partial_image[:, -padding:]\n",
    "        right_pad = partial_image[:, :padding]\n",
    "    \n",
    "        padded_image = np.concatenate([left_pad, partial_image, right_pad], axis=1)\n",
    "\n",
    "    if len(image.shape) == 3:\n",
    "        upper_pad = image[:, -padding:, :]\n",
    "        lower_pad = image[:, :padding, :]\n",
    "    \n",
    "        partial_image = np.concatenate([upper_pad, image, lower_pad], axis=1)\n",
    "    \n",
    "        left_pad = partial_image[:, :, -padding:]\n",
    "        right_pad = partial_image[:, :, :padding]\n",
    "    \n",
    "        padded_image = np.concatenate([left_pad, partial_image, right_pad], axis=2)\n",
    "\n",
    "    else:\n",
    "        assert True, \"Input data shape not understood.\"\n",
    "        \n",
    "    return padded_image\n",
    "\n",
    "def make_game_of_life():\n",
    "\n",
    "    pad_size = 1\n",
    "    center_pixel_filter = np.zeros((3, 3))\n",
    "    center_pixel_filter[1, 1] = 1\n",
    "    outer_pixel_filter = np.ones((3, 3))\n",
    "    outer_pixel_filter[1, 1] = 0\n",
    "\n",
    "    all_filters = np.dstack(\n",
    "        (center_pixel_filter, outer_pixel_filter, outer_pixel_filter,\n",
    "         outer_pixel_filter, outer_pixel_filter)\n",
    "    )\n",
    "    all_biases = np.array([0, -1, -2, -3, -4])\n",
    "    total_filters = len(all_biases)\n",
    "    kernel = all_filters[:, :, np.newaxis, :]\n",
    "    biases = all_biases\n",
    "\n",
    "    wh1 = np.array([\n",
    "        [0, 0, 4/3, -8/3, -1/3],\n",
    "        [3/2, 5/4, -5, -1/4, -1/4]\n",
    "    ]).T\n",
    "    bh1 = np.array([-1/3,-7/4]).T\n",
    "\n",
    "    def make_ca(image_stack: jax.Array) -> jax.Array:\n",
    "\n",
    "        input_padded = periodic_padding(image_stack, pad_size)[..., np.newaxis].astype(float)\n",
    "\n",
    "        print(f\"shape of image stack: {image_stack.shape},\\n\\\n",
    "                and input_padded: {input_padded.shape}\")\n",
    "        print(f\"shape of kernel: {kernel.shape}\")\n",
    "        print(f\"type of kernel: {kernel.dtype}, and type of input_padded: {input_padded.dtype}\")\n",
    "        \n",
    "        # Apply the convolutions\n",
    "        conv_image = jax.lax.conv_general_dilated(input_padded,\n",
    "                                  kernel,\n",
    "                                  window_strides=(1, 1),\n",
    "                                  padding='VALID',\n",
    "                                  dimension_numbers=('NHWC', 'HWIO', 'NHWC'),\n",
    "                                 )\n",
    "\n",
    "        print(f\"Shape of conv_image: {conv_image.shape}\")\n",
    "        \n",
    "        activation_image = jax.nn.relu(conv_image + biases)\n",
    "\n",
    "        activated_flat = np.reshape(activation_image, [-1, total_filters])\n",
    "        h1 = jax.nn.relu(np.matmul(activated_flat, wh1) + bh1)\n",
    "\n",
    "        scores = jnp.sum(h1, axis=-1)\n",
    "        next_states = np.reshape(scores, [*activation_image.shape[:3], 1])\n",
    "\n",
    "        return np.squeeze(next_states)\n",
    "        \n",
    "    return make_ca\n"
   ]
  },
  {
   "cell_type": "code",
   "execution_count": 219,
   "id": "d3e06ba2-9e52-466d-9d75-74f5a0ec920c",
   "metadata": {},
   "outputs": [
    {
     "name": "stdout",
     "output_type": "stream",
     "text": [
      "shape of image stack: (100, 10, 10),\n",
      "                and input_padded: (100, 12, 12, 1)\n",
      "shape of kernel: (3, 3, 1, 5)\n",
      "type of kernel: float64, and type of input_padded: float64\n",
      "Shape of conv_image: (100, 10, 10, 5)\n",
      "shape of image stack: (100, 10, 10),\n",
      "                and input_padded: (100, 12, 12, 1)\n",
      "shape of kernel: (3, 3, 1, 5), conv_image: (100, 10, 10, 5)\n"
     ]
    }
   ],
   "source": [
    "gol = make_game_of_life()\n",
    "Y_train = gol(X_train)\n",
    "\n",
    "gol_tf = make_game_of_life_tf()\n",
    "Y_train_tf = gol_tf(tf.convert_to_tensor(X_train, tf.float32))"
   ]
  },
  {
   "cell_type": "code",
   "execution_count": 220,
   "id": "74d60a3e-a779-4792-8d56-226e6158994f",
   "metadata": {},
   "outputs": [
    {
     "data": {
      "text/plain": [
       "(100, 10, 10)"
      ]
     },
     "execution_count": 220,
     "metadata": {},
     "output_type": "execute_result"
    }
   ],
   "source": [
    "Y_train.shape"
   ]
  },
  {
   "cell_type": "code",
   "execution_count": 293,
   "id": "d5465803-62c4-4724-aa68-83a50c012fa7",
   "metadata": {},
   "outputs": [
    {
     "name": "stdout",
     "output_type": "stream",
     "text": [
      "<class 'jaxlib.xla_extension.ArrayImpl'>\n",
      "<class 'tensorflow.python.framework.ops.EagerTensor'>\n"
     ]
    },
    {
     "data": {
      "text/plain": [
       "Text(0.5, 1.0, 'TF Output')"
      ]
     },
     "execution_count": 293,
     "metadata": {},
     "output_type": "execute_result"
    },
    {
     "data": {
      "image/png": "[encoded data removed]",
      "text/plain": [
       "<Figure size 1200x400 with 3 Axes>"
      ]
     },
     "metadata": {},
     "output_type": "display_data"
    }
   ],
   "source": [
    "i = 9\n",
    "\n",
    "plt.figure(figsize=(12,4))\n",
    "\n",
    "plt.subplot(1,3,1)\n",
    "plt.imshow(X_train[i], cmap='gray')\n",
    "plt.axis('off')\n",
    "plt.title(\"Input\")\n",
    "\n",
    "plt.subplot(1,3,2)\n",
    "plt.imshow(Y_train[i], cmap='gray')\n",
    "print(type(Y_train[i]))\n",
    "plt.axis('off')\n",
    "plt.title(\"JAX Output\")\n",
    "\n",
    "plt.subplot(1,3,3)\n",
    "plt.imshow(Y_train_tf[i], cmap='gray')\n",
    "print(type(Y_train_tf[i]))\n",
    "plt.axis('off')\n",
    "plt.title(\"TF Output\")\n"
   ]
  },
  {
   "cell_type": "code",
   "execution_count": 184,
   "id": "53a2689e-38dc-49e4-9fe2-b945cc137a3f",
   "metadata": {},
   "outputs": [
    {
     "data": {
      "text/plain": [
       "((100, 10, 10), (100, 10, 10), dtype('float64'), dtype('float32'))"
      ]
     },
     "execution_count": 184,
     "metadata": {},
     "output_type": "execute_result"
    }
   ],
   "source": [
    "X_train.shape, Y_train.shape, X_train.dtype, Y_train.dtype"
   ]
  },
  {
   "cell_type": "code",
   "execution_count": 234,
   "id": "609dc60e-fa57-4cf4-b1c2-614b7eb5dd6e",
   "metadata": {},
   "outputs": [],
   "source": [
    "def network_fn(data: jax.Array, layer_dims):\n",
    "    \"\"\"For now we assume the `data` object is a 3-dimensional\n",
    "        array\n",
    "    \"\"\"\n",
    "    num_classes = 2\n",
    "    conv_pad = 'same'\n",
    "    network = hk.Sequential([\n",
    "            hk.Conv2D(layer_dims[0], kernel_shape=(3,3), padding=conv_pad),\n",
    "            hk.Reshape(output_shape=(-1, layer_dims[0]))\n",
    "        ] + \\\n",
    "        [\n",
    "            hk.Linear(layer_dims[i]) for i in range(1, len(layer_dims))\n",
    "        ] + \\\n",
    "        [\n",
    "            hk.Linear(num_classes)\n",
    "        ]\n",
    "    )\n",
    "    print(network)\n",
    "    return network(data)\n",
    "\n",
    "def logit_to_pred(logits, shape=None):\n",
    "    \"\"\"Transform logits to images\"\"\"\n",
    "    labels = jnp.argmax(jax.nn.softmax(logits), axis=-1)\n",
    "    if shape:\n",
    "        out = jnp.reshape(labels, shape)\n",
    "    return out.astype(np.float64)"
   ]
  },
  {
   "cell_type": "code",
   "execution_count": 235,
   "id": "c36e2583-9719-4150-a59c-fac15e12dafb",
   "metadata": {},
   "outputs": [
    {
     "ename": "SyntaxError",
     "evalue": "incomplete input (378415535.py, line 12)",
     "output_type": "error",
     "traceback": [
      "\u001b[0;36m  Cell \u001b[0;32mIn[235], line 12\u001b[0;36m\u001b[0m\n\u001b[0;31m    optax.softmax_cross_entropy(\u001b[0m\n\u001b[0m                                ^\u001b[0m\n\u001b[0;31mSyntaxError\u001b[0m\u001b[0;31m:\u001b[0m incomplete input\n"
     ]
    }
   ],
   "source": [
    "## Training loop?\n",
    "\n",
    "from typing import NamedTuple\n",
    "\n",
    "class Batch(NamedTuple):\n",
    "    X: np.ndarray  # [B, H, W, 1]\n",
    "    Y: np.ndarray  # [B, H, W, 1]\n",
    "\n",
    "def loss_fn(params: hk.Params, batch: Batch):\n",
    "    X_train = batch.X\n",
    "    transformed_fn.apply(params, X_train,\n",
    "    optax.softmax_cross_entropy("
   ]
  },
  {
   "cell_type": "code",
   "execution_count": 236,
   "id": "1bdec1f5-3bd4-4e00-8b70-a96900ee73e5",
   "metadata": {},
   "outputs": [
    {
     "name": "stdout",
     "output_type": "stream",
     "text": [
      "Sequential(\n",
      "    layers=[Conv2D(output_channels=10, kernel_shape=(3, 3), padding='same'),\n",
      "            Reshape(output_shape=(-1, 10)),\n",
      "            Linear(output_size=10),\n",
      "            Linear(output_size=10),\n",
      "            Linear(output_size=2)],\n",
      ")\n",
      "Sequential(\n",
      "    layers=[Conv2D(output_channels=10, kernel_shape=(3, 3), padding='same'),\n",
      "            Reshape(output_shape=(-1, 10)),\n",
      "            Linear(output_size=10),\n",
      "            Linear(output_size=10),\n",
      "            Linear(output_size=2)],\n",
      ")\n",
      "(100, 10, 10, 1) (100, 100, 2)\n"
     ]
    }
   ],
   "source": [
    "# Transform the network\n",
    "transformed = hk.without_apply_rng(hk.transform(network_fn))\n",
    "\n",
    "# Get appropriately-shaped data and pass it in\n",
    "X_train_transformed = X_train[..., np.newaxis]\n",
    "\n",
    "# Get initial params and apply the network\n",
    "init_params = transformed.init(rng, X_train_transformed, [10,10,10])\n",
    "out = transformed.apply(init_params, X_train_transformed, [10,10,10])\n",
    "\n",
    "print(X_train_transformed.shape, out.shape)"
   ]
  },
  {
   "cell_type": "code",
   "execution_count": 237,
   "id": "bedb7601-5947-4b61-8955-85cd7fd7f8b5",
   "metadata": {},
   "outputs": [
    {
     "name": "stdout",
     "output_type": "stream",
     "text": [
      "(100, 100, 2)\n"
     ]
    },
    {
     "name": "stderr",
     "output_type": "stream",
     "text": [
      "/tmp/ipykernel_189/3703276860.py:26: UserWarning: Explicitly requested dtype <class 'numpy.float64'> requested in astype is not available, and will be truncated to dtype float32. To enable more dtypes, set the jax_enable_x64 configuration option or the JAX_ENABLE_X64 shell environment variable. See https://github.com/google/jax#current-gotchas for more.\n",
      "  return out.astype(np.float64)\n"
     ]
    },
    {
     "data": {
      "text/plain": [
       "(100, 10, 10)"
      ]
     },
     "execution_count": 237,
     "metadata": {},
     "output_type": "execute_result"
    }
   ],
   "source": [
    "print(out.shape)\n",
    "# plt.imshow(out[0], cmap='gray')\n",
    "# print(out[1:])\n",
    "\n",
    "preds = logit_to_pred(out, shape=(-1, wspan, hspan))\n",
    "preds.shape"
   ]
  },
  {
   "cell_type": "code",
   "execution_count": 238,
   "id": "17407cf3-d1e9-4b51-8159-73b8f42428b8",
   "metadata": {},
   "outputs": [
    {
     "data": {
      "text/plain": [
       "<matplotlib.image.AxesImage at 0x7faae02a35e0>"
      ]
     },
     "execution_count": 238,
     "metadata": {},
     "output_type": "execute_result"
    },
    {
     "data": {
      "image/png": "[encoded data removed]",
      "text/plain": [
       "<Figure size 640x480 with 3 Axes>"
      ]
     },
     "metadata": {},
     "output_type": "display_data"
    }
   ],
   "source": [
    "fig, (ax0, ax1, ax2) = plt.subplots(1, 3)\n",
    "\n",
    "ax0.imshow(X_train[0], cmap='gray')\n",
    "ax1.imshow(preds[0], cmap='gray')\n",
    "ax2.imshow(Y_train[0], cmap='gray')"
   ]
  },
  {
   "cell_type": "code",
   "execution_count": 252,
   "id": "e0820722-a874-455c-be22-989d405c87eb",
   "metadata": {},
   "outputs": [
    {
     "name": "stdout",
     "output_type": "stream",
     "text": [
      "(100, 100, 2) (100, 10, 10)\n"
     ]
    }
   ],
   "source": [
    "print(out.shape, Y_train.shape)\n",
    "loss = optax.softmax_cross_entropy(out, Y_train)"
   ]
  },
  {
   "cell_type": "code",
   "execution_count": 265,
   "id": "acede4ce-fdb7-44c2-aaae-befe06fff18f",
   "metadata": {},
   "outputs": [
    {
     "data": {
      "text/plain": [
       "TensorShape([100, 10, 10, 2])"
      ]
     },
     "execution_count": 265,
     "metadata": {},
     "output_type": "execute_result"
    }
   ],
   "source": [
    "Y_train_onehot.shape"
   ]
  },
  {
   "cell_type": "code",
   "execution_count": 261,
   "id": "a6ff96c0-b3b8-4e3c-a8f7-182798f753a9",
   "metadata": {},
   "outputs": [
    {
     "name": "stdout",
     "output_type": "stream",
     "text": [
      "(100, 10, 10, 2)\n"
     ]
    }
   ],
   "source": [
    "Y_train_onehot = tf.squeeze(tf.one_hot(tf.cast(Y_train, tf.int32), num_classes))\n",
    "print(Y_train_onehot.shape\n",
    "num_classes = 2\n",
    "loss_f = lambda x, y : tf.keras.losses.categorical_crossentropy(tf.reshape(x, shape=(-1, num_classes)), \n",
    "                                                                  tf.reshape(y, shape=(-1, num_classes)), \n",
    "                                                                  from_logits=True)"
   ]
  },
  {
   "cell_type": "code",
   "execution_count": 282,
   "id": "ee9538f2-93ca-4ae1-ab93-9468c60504e1",
   "metadata": {},
   "outputs": [
    {
     "data": {
      "text/plain": [
       "<tf.Tensor: shape=(10000,), dtype=float32, numpy=\n",
       "array([ 0.17954601,  0.11256593,  0.29058778, ..., -0.30501208,\n",
       "        0.29086876,  0.07855719], dtype=float32)>"
      ]
     },
     "execution_count": 282,
     "metadata": {},
     "output_type": "execute_result"
    }
   ],
   "source": [
    "# loss_f(out, Y_train_onehot)\n",
    "lossf1 = loss_f(out, Y_train_onehot)\n",
    "lossf1"
   ]
  },
  {
   "cell_type": "code",
   "execution_count": 283,
   "id": "aab43c17-6139-489e-b485-2ea3ca7d5c4f",
   "metadata": {},
   "outputs": [
    {
     "name": "stdout",
     "output_type": "stream",
     "text": [
      "(100, 10, 10) (100, 10, 10)\n",
      "(5000, 2)\n"
     ]
    },
    {
     "data": {
      "text/plain": [
       "<tf.Tensor: shape=(5000,), dtype=float32, numpy=\n",
       "array([1.6265235 , 0.31326175, 0.        , ..., 1.3132617 , 1.3862944 ,\n",
       "       1.6265235 ], dtype=float32)>"
      ]
     },
     "execution_count": 283,
     "metadata": {},
     "output_type": "execute_result"
    }
   ],
   "source": [
    "print(preds.shape, Y_train.shape)\n",
    "print(tf.reshape(preds, shape=(-1, num_classes)).shape)\n",
    "\n",
    "lossf2 = loss_f(preds, Y_train)\n",
    "lossf2"
   ]
  },
  {
   "cell_type": "code",
   "execution_count": 276,
   "id": "e7af6533-9a7c-4e35-b705-39d3c76dee5e",
   "metadata": {},
   "outputs": [],
   "source": [
    "preds_reshaped = np.reshape(preds, newshape=(-1, num_classes))\n",
    "preds_reshaped_tf = tf.reshape(preds, shape=(-1, num_classes))\n",
    "\n",
    "Y_train_reshaped = np.reshape(Y_train, newshape=(-1, num_classes))\n",
    "lossf = loss_f(preds_reshaped, Y_train_reshaped)"
   ]
  },
  {
   "cell_type": "code",
   "execution_count": 288,
   "id": "05a2b491-0469-4cda-9f20-fede4a7242c4",
   "metadata": {},
   "outputs": [
    {
     "data": {
      "text/plain": [
       "((100, 100, 2), (100, 10, 10), (100, 10, 10), TensorShape([100, 10, 10, 2]))"
      ]
     },
     "execution_count": 288,
     "metadata": {},
     "output_type": "execute_result"
    }
   ],
   "source": [
    "out.shape, preds.shape, Y_train.shape, Y_train_onehot.shape"
   ]
  },
  {
   "cell_type": "code",
   "execution_count": 298,
   "id": "e07926b7-10c4-40d3-806c-0daf053d408f",
   "metadata": {},
   "outputs": [
    {
     "data": {
      "text/plain": [
       "<matplotlib.image.AxesImage at 0x7faaa06b7700>"
      ]
     },
     "execution_count": 298,
     "metadata": {},
     "output_type": "execute_result"
    },
    {
     "data": {
      "image/png": "[encoded data removed]",
      "text/plain": [
       "<Figure size 640x480 with 6 Axes>"
      ]
     },
     "metadata": {},
     "output_type": "display_data"
    }
   ],
   "source": [
    "fig, ((ax0, ax1, ax2), (ax10, ax11, ax12)) = plt.subplots(2, 3)\n",
    "ax0.imshow(Y_train[0], cmap='gray')\n",
    "ax1.imshow(Y_train_onehot[0, :, :, 0], cmap='gray')\n",
    "ax2.imshow(Y_train_onehot[0, :, :, 1], cmap='gray')\n",
    "\n",
    "ax10.imshow(preds[0], cmap='gray')\n",
    "ax11.imshow(out"
   ]
  },
  {
   "cell_type": "code",
   "execution_count": null,
   "id": "2fd146aa-76ee-4e1e-82e6-62c78449fec6",
   "metadata": {},
   "outputs": [],
   "source": []
  },
  {
   "cell_type": "code",
   "execution_count": null,
   "id": "403eac68-81d8-4bad-9626-81e78ef11988",
   "metadata": {},
   "outputs": [],
   "source": []
  }
 ],
 "metadata": {
  "kernelspec": {
   "display_name": "Python 3 (ipykernel)",
   "language": "python",
   "name": "python3"
  },
  "language_info": {
   "codemirror_mode": {
    "name": "ipython",
    "version": 3
   },
   "file_extension": ".py",
   "mimetype": "text/x-python",
   "name": "python",
   "nbconvert_exporter": "python",
   "pygments_lexer": "ipython3",
   "version": "3.10.6"
  }
 },
 "nbformat": 4,
 "nbformat_minor": 5
}
